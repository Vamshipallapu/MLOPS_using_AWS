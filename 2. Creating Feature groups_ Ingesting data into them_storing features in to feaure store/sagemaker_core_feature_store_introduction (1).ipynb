{
 "cells": [
  {
   "cell_type": "markdown",
   "metadata": {},
   "source": [
    "## Amazon SageMaker Feature Store: Introduction to Feature Store"
   ]
  },
  {
   "cell_type": "markdown",
   "metadata": {},
   "source": [
    "This notebook demonstrates how to get started with Feature Store, create feature groups, and ingest data into them. These feature groups are stored in your Feature Store.\n",
    "\n",
    "Feature groups are resources that contain metadata for all data stored in your Feature Store. A feature group is a logical grouping of features, defined in the feature store to describe records. A feature group’s definition is composed of a list of feature definitions, a record identifier name, and configurations for its online and offline store. \n",
    "\n",
    "### Overview\n",
    "1. Set up\n",
    "2. Creating a feature group\n",
    "3. Ingest data into a feature group\n",
    "\n",
    "### Prerequisites\n",
    "This notebook uses sagemaker_core SDK and `Python 3 (Data Science)` kernel. This notebook works with Studio, Jupyter, and JupyterLab. \n",
    "\n",
    "#### Library dependencies:\n",
    "* `sagemaker_core`\n",
    "* `numpy`\n",
    "* `pandas`\n",
    "\n",
    "#### Role requirements:\n",
    "**IMPORTANT**: You must attach the following policies to your execution role:\n",
    "* `AmazonS3FullAccess`\n",
    "* `AmazonSageMakerFeatureStoreAccess`"
   ]
  },
  {
   "cell_type": "markdown",
   "metadata": {},
   "source": [
    "### Set up"
   ]
  },
  {
   "cell_type": "code",
   "execution_count": 71,
   "metadata": {
    "scrolled": true
   },
   "outputs": [
    {
     "name": "stdout",
     "output_type": "stream",
     "text": [
      "Found existing installation: sagemaker-core 1.0.27\n",
      "Uninstalling sagemaker-core-1.0.27:\n",
      "  Successfully uninstalled sagemaker-core-1.0.27\n",
      "Collecting sagemaker-core\n",
      "  Using cached sagemaker_core-1.0.27-py3-none-any.whl.metadata (4.9 kB)\n",
      "Requirement already satisfied: boto3<2.0.0,>=1.35.75 in /opt/conda/lib/python3.11/site-packages (from sagemaker-core) (1.36.23)\n",
      "Requirement already satisfied: pydantic<3.0.0,>=2.0.0 in /opt/conda/lib/python3.11/site-packages (from sagemaker-core) (2.10.6)\n",
      "Requirement already satisfied: PyYAML<7.0,>=6.0 in /opt/conda/lib/python3.11/site-packages (from sagemaker-core) (6.0.2)\n",
      "Requirement already satisfied: jsonschema<5.0.0 in /opt/conda/lib/python3.11/site-packages (from sagemaker-core) (4.23.0)\n",
      "Requirement already satisfied: platformdirs<5.0.0,>=4.0.0 in /opt/conda/lib/python3.11/site-packages (from sagemaker-core) (4.3.6)\n",
      "Requirement already satisfied: rich<14.0.0,>=13.0.0 in /opt/conda/lib/python3.11/site-packages (from sagemaker-core) (13.9.4)\n",
      "Requirement already satisfied: mock<5.0,>4.0 in /opt/conda/lib/python3.11/site-packages (from sagemaker-core) (4.0.3)\n",
      "Requirement already satisfied: importlib-metadata<7.0,>=1.4.0 in /opt/conda/lib/python3.11/site-packages (from sagemaker-core) (6.10.0)\n",
      "Requirement already satisfied: botocore<1.37.0,>=1.36.23 in /opt/conda/lib/python3.11/site-packages (from boto3<2.0.0,>=1.35.75->sagemaker-core) (1.36.23)\n",
      "Requirement already satisfied: jmespath<2.0.0,>=0.7.1 in /opt/conda/lib/python3.11/site-packages (from boto3<2.0.0,>=1.35.75->sagemaker-core) (1.0.1)\n",
      "Requirement already satisfied: s3transfer<0.12.0,>=0.11.0 in /opt/conda/lib/python3.11/site-packages (from boto3<2.0.0,>=1.35.75->sagemaker-core) (0.11.3)\n",
      "Requirement already satisfied: zipp>=0.5 in /opt/conda/lib/python3.11/site-packages (from importlib-metadata<7.0,>=1.4.0->sagemaker-core) (3.21.0)\n",
      "Requirement already satisfied: attrs>=22.2.0 in /opt/conda/lib/python3.11/site-packages (from jsonschema<5.0.0->sagemaker-core) (23.2.0)\n",
      "Requirement already satisfied: jsonschema-specifications>=2023.03.6 in /opt/conda/lib/python3.11/site-packages (from jsonschema<5.0.0->sagemaker-core) (2024.10.1)\n",
      "Requirement already satisfied: referencing>=0.28.4 in /opt/conda/lib/python3.11/site-packages (from jsonschema<5.0.0->sagemaker-core) (0.36.2)\n",
      "Requirement already satisfied: rpds-py>=0.7.1 in /opt/conda/lib/python3.11/site-packages (from jsonschema<5.0.0->sagemaker-core) (0.23.1)\n",
      "Requirement already satisfied: annotated-types>=0.6.0 in /opt/conda/lib/python3.11/site-packages (from pydantic<3.0.0,>=2.0.0->sagemaker-core) (0.7.0)\n",
      "Requirement already satisfied: pydantic-core==2.27.2 in /opt/conda/lib/python3.11/site-packages (from pydantic<3.0.0,>=2.0.0->sagemaker-core) (2.27.2)\n",
      "Requirement already satisfied: typing-extensions>=4.12.2 in /opt/conda/lib/python3.11/site-packages (from pydantic<3.0.0,>=2.0.0->sagemaker-core) (4.12.2)\n",
      "Requirement already satisfied: markdown-it-py>=2.2.0 in /opt/conda/lib/python3.11/site-packages (from rich<14.0.0,>=13.0.0->sagemaker-core) (3.0.0)\n",
      "Requirement already satisfied: pygments<3.0.0,>=2.13.0 in /opt/conda/lib/python3.11/site-packages (from rich<14.0.0,>=13.0.0->sagemaker-core) (2.19.1)\n",
      "Requirement already satisfied: python-dateutil<3.0.0,>=2.1 in /opt/conda/lib/python3.11/site-packages (from botocore<1.37.0,>=1.36.23->boto3<2.0.0,>=1.35.75->sagemaker-core) (2.9.0.post0)\n",
      "Requirement already satisfied: urllib3!=2.2.0,<3,>=1.25.4 in /opt/conda/lib/python3.11/site-packages (from botocore<1.37.0,>=1.36.23->boto3<2.0.0,>=1.35.75->sagemaker-core) (1.26.19)\n",
      "Requirement already satisfied: mdurl~=0.1 in /opt/conda/lib/python3.11/site-packages (from markdown-it-py>=2.2.0->rich<14.0.0,>=13.0.0->sagemaker-core) (0.1.2)\n",
      "Requirement already satisfied: six>=1.5 in /opt/conda/lib/python3.11/site-packages (from python-dateutil<3.0.0,>=2.1->botocore<1.37.0,>=1.36.23->boto3<2.0.0,>=1.35.75->sagemaker-core) (1.17.0)\n",
      "Using cached sagemaker_core-1.0.27-py3-none-any.whl (407 kB)\n",
      "Installing collected packages: sagemaker-core\n",
      "Successfully installed sagemaker-core-1.0.27\n"
     ]
    }
   ],
   "source": [
    "!pip uninstall sagemaker-core -y\n",
    "!pip install pip --upgrade --quiet\n",
    "!pip install sagemaker-core --upgrade"
   ]
  },
  {
   "cell_type": "code",
   "execution_count": 72,
   "metadata": {},
   "outputs": [],
   "source": [
    "import pandas as pd\n",
    "import numpy as np\n",
    "import io\n",
    "import sagemaker\n",
    "from sagemaker_core.helper.session_helper import get_execution_role, Session\n",
    "\n",
    "sagemaker_session = Session()\n",
    "REGION_NAME = sagemaker_session._region_name\n",
    "role = get_execution_role()\n",
    "s3_bucket_name = sagemaker.Session().default_bucket()\n",
    "prefix = \"sagemaker-featurestore-introduction\"\n",
    "default_bucket_prefix = sagemaker.Session().default_bucket_prefix\n",
    "\n",
    "# If a default bucket prefix is specified, append it to the s3 path\n",
    "if default_bucket_prefix:\n",
    "    prefix = f\"{default_bucket_prefix}/{prefix}\""
   ]
  },
  {
   "cell_type": "markdown",
   "metadata": {},
   "source": [
    "### Inspect your data\n",
    "In this notebook example we ingest synthetic data. We read from `./data/feature_store_introduction_customer.csv` and `./data/feature_store_introduction_orders.csv`."
   ]
  },
  {
   "cell_type": "code",
   "execution_count": 73,
   "metadata": {},
   "outputs": [],
   "source": [
    "customer_data = pd.read_csv(\"feature_store_introduction_customer.csv\")\n",
    "orders_data = pd.read_csv(\"feature_store_introduction_orders.csv\")"
   ]
  },
  {
   "cell_type": "code",
   "execution_count": 74,
   "metadata": {},
   "outputs": [
    {
     "data": {
      "text/html": [
       "<div>\n",
       "<style scoped>\n",
       "    .dataframe tbody tr th:only-of-type {\n",
       "        vertical-align: middle;\n",
       "    }\n",
       "\n",
       "    .dataframe tbody tr th {\n",
       "        vertical-align: top;\n",
       "    }\n",
       "\n",
       "    .dataframe thead th {\n",
       "        text-align: right;\n",
       "    }\n",
       "</style>\n",
       "<table border=\"1\" class=\"dataframe\">\n",
       "  <thead>\n",
       "    <tr style=\"text-align: right;\">\n",
       "      <th></th>\n",
       "      <th>customer_id</th>\n",
       "      <th>city_code</th>\n",
       "      <th>state_code</th>\n",
       "      <th>country_code</th>\n",
       "    </tr>\n",
       "  </thead>\n",
       "  <tbody>\n",
       "    <tr>\n",
       "      <th>0</th>\n",
       "      <td>573291</td>\n",
       "      <td>1</td>\n",
       "      <td>49</td>\n",
       "      <td>2</td>\n",
       "    </tr>\n",
       "    <tr>\n",
       "      <th>1</th>\n",
       "      <td>109382</td>\n",
       "      <td>2</td>\n",
       "      <td>40</td>\n",
       "      <td>2</td>\n",
       "    </tr>\n",
       "    <tr>\n",
       "      <th>2</th>\n",
       "      <td>828400</td>\n",
       "      <td>3</td>\n",
       "      <td>31</td>\n",
       "      <td>2</td>\n",
       "    </tr>\n",
       "    <tr>\n",
       "      <th>3</th>\n",
       "      <td>124013</td>\n",
       "      <td>4</td>\n",
       "      <td>5</td>\n",
       "      <td>2</td>\n",
       "    </tr>\n",
       "  </tbody>\n",
       "</table>\n",
       "</div>"
      ],
      "text/plain": [
       "   customer_id  city_code  state_code  country_code\n",
       "0       573291          1          49             2\n",
       "1       109382          2          40             2\n",
       "2       828400          3          31             2\n",
       "3       124013          4           5             2"
      ]
     },
     "execution_count": 74,
     "metadata": {},
     "output_type": "execute_result"
    }
   ],
   "source": [
    "customer_data.head()"
   ]
  },
  {
   "cell_type": "code",
   "execution_count": 75,
   "metadata": {},
   "outputs": [
    {
     "data": {
      "text/html": [
       "<div>\n",
       "<style scoped>\n",
       "    .dataframe tbody tr th:only-of-type {\n",
       "        vertical-align: middle;\n",
       "    }\n",
       "\n",
       "    .dataframe tbody tr th {\n",
       "        vertical-align: top;\n",
       "    }\n",
       "\n",
       "    .dataframe thead th {\n",
       "        text-align: right;\n",
       "    }\n",
       "</style>\n",
       "<table border=\"1\" class=\"dataframe\">\n",
       "  <thead>\n",
       "    <tr style=\"text-align: right;\">\n",
       "      <th></th>\n",
       "      <th>customer_id</th>\n",
       "      <th>order_id</th>\n",
       "      <th>order_status</th>\n",
       "      <th>store_id</th>\n",
       "    </tr>\n",
       "  </thead>\n",
       "  <tbody>\n",
       "    <tr>\n",
       "      <th>0</th>\n",
       "      <td>573291</td>\n",
       "      <td>4132</td>\n",
       "      <td>1</td>\n",
       "      <td>303</td>\n",
       "    </tr>\n",
       "    <tr>\n",
       "      <th>1</th>\n",
       "      <td>109382</td>\n",
       "      <td>5724</td>\n",
       "      <td>0</td>\n",
       "      <td>201</td>\n",
       "    </tr>\n",
       "    <tr>\n",
       "      <th>2</th>\n",
       "      <td>828400</td>\n",
       "      <td>1942</td>\n",
       "      <td>0</td>\n",
       "      <td>431</td>\n",
       "    </tr>\n",
       "    <tr>\n",
       "      <th>3</th>\n",
       "      <td>124013</td>\n",
       "      <td>6782</td>\n",
       "      <td>1</td>\n",
       "      <td>213</td>\n",
       "    </tr>\n",
       "  </tbody>\n",
       "</table>\n",
       "</div>"
      ],
      "text/plain": [
       "   customer_id  order_id  order_status  store_id\n",
       "0       573291      4132             1       303\n",
       "1       109382      5724             0       201\n",
       "2       828400      1942             0       431\n",
       "3       124013      6782             1       213"
      ]
     },
     "execution_count": 75,
     "metadata": {},
     "output_type": "execute_result"
    }
   ],
   "source": [
    "orders_data.head()"
   ]
  },
  {
   "cell_type": "markdown",
   "metadata": {},
   "source": [
    "Below is an illustration on the steps the data goes through before it is ingested into a Feature Store. In this notebook, we illustrate the use-case where you have data from multiple sources and want to store them independently in a feature store. Our example considers data from a data warehouse (customer data), and data from a real-time streaming service (order data). "
   ]
  },
  {
   "cell_type": "markdown",
   "metadata": {},
   "source": [
    "![data flow](images/feature_store_data_ingest.svg)"
   ]
  },
  {
   "cell_type": "markdown",
   "metadata": {},
   "source": [
    "### Create a feature group\n",
    "\n",
    "We first start by creating feature group names for customer_data and orders_data. Following this, we create two Feature Groups, one for `customer_data` and another for `orders_data`"
   ]
  },
  {
   "cell_type": "code",
   "execution_count": 76,
   "metadata": {},
   "outputs": [],
   "source": [
    "from time import gmtime, strftime, sleep\n",
    "\n",
    "customers_feature_group_name = \"customers-feature-group-\" + strftime(\"%d-%H-%M-%S\", gmtime())\n",
    "orders_feature_group_name = \"orders-feature-group-\" + strftime(\"%d-%H-%M-%S\", gmtime())"
   ]
  },
  {
   "cell_type": "code",
   "execution_count": 77,
   "metadata": {},
   "outputs": [
    {
     "data": {
      "text/plain": [
       "'customers-feature-group-01-12-20-28'"
      ]
     },
     "execution_count": 77,
     "metadata": {},
     "output_type": "execute_result"
    }
   ],
   "source": [
    "customers_feature_group_name"
   ]
  },
  {
   "cell_type": "markdown",
   "metadata": {},
   "source": [
    "Instantiate a FeatureGroup object for customers_data and orders_data. "
   ]
  },
  {
   "cell_type": "code",
   "execution_count": 78,
   "metadata": {
    "scrolled": true
   },
   "outputs": [],
   "source": [
    "from sagemaker_core.shapes import FeatureDefinition\n",
    "\n",
    "CustomerFeatureDefinitions = [\n",
    "    FeatureDefinition(feature_name=\"customer_id\", feature_type=\"Integral\"),\n",
    "    FeatureDefinition(feature_name=\"city_code\", feature_type=\"Integral\"),\n",
    "    FeatureDefinition(feature_name=\"state_code\", feature_type=\"Integral\"),\n",
    "    FeatureDefinition(feature_name=\"country_code\", feature_type=\"Integral\"),\n",
    "    FeatureDefinition(feature_name=\"EventTime\", feature_type=\"Fractional\"),\n",
    "]\n",
    "\n",
    "OrderFeatureDefinitions = [\n",
    "    FeatureDefinition(feature_name=\"customer_id\", feature_type=\"Integral\"),\n",
    "    FeatureDefinition(feature_name=\"order_id\", feature_type=\"Integral\"),\n",
    "    FeatureDefinition(feature_name=\"order_status\", feature_type=\"Integral\"),\n",
    "    FeatureDefinition(feature_name=\"store_id\", feature_type=\"Integral\"),\n",
    "    FeatureDefinition(feature_name=\"EventTime\", feature_type=\"Fractional\"),\n",
    "]"
   ]
  },
  {
   "cell_type": "code",
   "execution_count": 79,
   "metadata": {},
   "outputs": [],
   "source": [
    "import time\n",
    "\n",
    "current_time_sec = int(round(time.time()))\n",
    "\n",
    "record_identifier_feature_name = \"customer_id\""
   ]
  },
  {
   "cell_type": "markdown",
   "metadata": {},
   "source": [
    "Append `EventTime` feature to your data frame. This parameter is required, and time stamps each data point."
   ]
  },
  {
   "cell_type": "code",
   "execution_count": 80,
   "metadata": {},
   "outputs": [],
   "source": [
    "customer_data[\"EventTime\"] = pd.Series([current_time_sec] * len(customer_data), dtype=\"float64\")\n",
    "orders_data[\"EventTime\"] = pd.Series([current_time_sec] * len(orders_data), dtype=\"float64\")"
   ]
  },
  {
   "cell_type": "markdown",
   "metadata": {},
   "source": [
    "Load feature definitions to your feature group. "
   ]
  },
  {
   "cell_type": "markdown",
   "metadata": {},
   "source": [
    "Below we call create to create two feature groups, customers_feature_group and orders_feature_group respectively"
   ]
  },
  {
   "cell_type": "code",
   "execution_count": 81,
   "metadata": {},
   "outputs": [
    {
     "data": {
      "text/html": [
       "<pre style=\"white-space:pre;overflow-x:auto;line-height:normal;font-family:Menlo,'DejaVu Sans Mono',consolas,'Courier New',monospace\"><span style=\"color: #7fbfbf; text-decoration-color: #7fbfbf\">[04/01/25 12:20:33] </span><span style=\"color: #0069ff; text-decoration-color: #0069ff; font-weight: bold\">INFO    </span> Creating feature_group resource.                                    <a href=\"file:///opt/conda/lib/python3.11/site-packages/sagemaker_core/main/resources.py\" target=\"_blank\"><span style=\"color: #7f7f7f; text-decoration-color: #7f7f7f\">resources.py</span></a><span style=\"color: #7f7f7f; text-decoration-color: #7f7f7f\">:</span><a href=\"file:///opt/conda/lib/python3.11/site-packages/sagemaker_core/main/resources.py#10435\" target=\"_blank\"><span style=\"color: #7f7f7f; text-decoration-color: #7f7f7f\">10435</span></a>\n",
       "</pre>\n"
      ],
      "text/plain": [
       "\u001b[2;36m[04/01/25 12:20:33]\u001b[0m\u001b[2;36m \u001b[0m\u001b[1;38;2;0;105;255mINFO    \u001b[0m Creating feature_group resource.                                    \u001b]8;id=206055;file:///opt/conda/lib/python3.11/site-packages/sagemaker_core/main/resources.py\u001b\\\u001b[2mresources.py\u001b[0m\u001b]8;;\u001b\\\u001b[2m:\u001b[0m\u001b]8;id=543009;file:///opt/conda/lib/python3.11/site-packages/sagemaker_core/main/resources.py#10435\u001b\\\u001b[2m10435\u001b[0m\u001b]8;;\u001b\\\n"
      ]
     },
     "metadata": {},
     "output_type": "display_data"
    }
   ],
   "source": [
    "from sagemaker_core.shapes import OnlineStoreConfig, OfflineStoreConfig, S3StorageConfig\n",
    "from sagemaker_core.resources import FeatureGroup\n",
    "\n",
    "customers_feature_group = FeatureGroup.create(\n",
    "    feature_group_name=customers_feature_group_name,\n",
    "    record_identifier_feature_name=record_identifier_feature_name,\n",
    "    event_time_feature_name=\"EventTime\",\n",
    "    role_arn=role,\n",
    "    online_store_config=OnlineStoreConfig(enable_online_store=True),\n",
    "    feature_definitions=CustomerFeatureDefinitions,\n",
    "    offline_store_config=OfflineStoreConfig(\n",
    "        s3_storage_config=S3StorageConfig(s3_uri=f\"s3://{s3_bucket_name}/{prefix}\")\n",
    "    ),\n",
    ")"
   ]
  },
  {
   "cell_type": "code",
   "execution_count": 82,
   "metadata": {},
   "outputs": [
    {
     "data": {
      "text/html": [
       "<pre style=\"white-space:pre;overflow-x:auto;line-height:normal;font-family:Menlo,'DejaVu Sans Mono',consolas,'Courier New',monospace\"><span style=\"color: #7fbfbf; text-decoration-color: #7fbfbf\">[04/01/25 12:20:34] </span><span style=\"color: #0069ff; text-decoration-color: #0069ff; font-weight: bold\">INFO    </span> Creating feature_group resource.                                    <a href=\"file:///opt/conda/lib/python3.11/site-packages/sagemaker_core/main/resources.py\" target=\"_blank\"><span style=\"color: #7f7f7f; text-decoration-color: #7f7f7f\">resources.py</span></a><span style=\"color: #7f7f7f; text-decoration-color: #7f7f7f\">:</span><a href=\"file:///opt/conda/lib/python3.11/site-packages/sagemaker_core/main/resources.py#10435\" target=\"_blank\"><span style=\"color: #7f7f7f; text-decoration-color: #7f7f7f\">10435</span></a>\n",
       "</pre>\n"
      ],
      "text/plain": [
       "\u001b[2;36m[04/01/25 12:20:34]\u001b[0m\u001b[2;36m \u001b[0m\u001b[1;38;2;0;105;255mINFO    \u001b[0m Creating feature_group resource.                                    \u001b]8;id=866275;file:///opt/conda/lib/python3.11/site-packages/sagemaker_core/main/resources.py\u001b\\\u001b[2mresources.py\u001b[0m\u001b]8;;\u001b\\\u001b[2m:\u001b[0m\u001b]8;id=949598;file:///opt/conda/lib/python3.11/site-packages/sagemaker_core/main/resources.py#10435\u001b\\\u001b[2m10435\u001b[0m\u001b]8;;\u001b\\\n"
      ]
     },
     "metadata": {},
     "output_type": "display_data"
    }
   ],
   "source": [
    "from sagemaker_core.resources import FeatureGroup\n",
    "\n",
    "orders_feature_group = FeatureGroup.create(\n",
    "    feature_group_name=orders_feature_group_name,\n",
    "    record_identifier_feature_name=record_identifier_feature_name,\n",
    "    event_time_feature_name=\"EventTime\",\n",
    "    role_arn=role,\n",
    "    online_store_config=OnlineStoreConfig(enable_online_store=True),\n",
    "    feature_definitions=OrderFeatureDefinitions,\n",
    "    offline_store_config=OfflineStoreConfig(\n",
    "        s3_storage_config=S3StorageConfig(s3_uri=f\"s3://{s3_bucket_name}/{prefix}\")\n",
    "    ),\n",
    ")"
   ]
  },
  {
   "cell_type": "markdown",
   "metadata": {},
   "source": [
    "To confirm that your FeatureGroup has been created we use `wait_for_status` functions to wait for the feature group to be created successfully."
   ]
  },
  {
   "cell_type": "code",
   "execution_count": 83,
   "metadata": {},
   "outputs": [
    {
     "data": {
      "application/vnd.jupyter.widget-view+json": {
       "model_id": "",
       "version_major": 2,
       "version_minor": 0
      },
      "text/plain": [
       "Output()"
      ]
     },
     "metadata": {},
     "output_type": "display_data"
    },
    {
     "data": {
      "text/html": [
       "<pre style=\"white-space:pre;overflow-x:auto;line-height:normal;font-family:Menlo,'DejaVu Sans Mono',consolas,'Courier New',monospace\"><span style=\"color: #7fbfbf; text-decoration-color: #7fbfbf\">[04/01/25 12:20:52] </span><span style=\"color: #0069ff; text-decoration-color: #0069ff; font-weight: bold\">INFO    </span> Final Resource Status: <span style=\"font-weight: bold\">Created</span>                                      <a href=\"file:///opt/conda/lib/python3.11/site-packages/sagemaker_core/main/resources.py\" target=\"_blank\"><span style=\"color: #7f7f7f; text-decoration-color: #7f7f7f\">resources.py</span></a><span style=\"color: #7f7f7f; text-decoration-color: #7f7f7f\">:</span><a href=\"file:///opt/conda/lib/python3.11/site-packages/sagemaker_core/main/resources.py#10689\" target=\"_blank\"><span style=\"color: #7f7f7f; text-decoration-color: #7f7f7f\">10689</span></a>\n",
       "</pre>\n"
      ],
      "text/plain": [
       "\u001b[2;36m[04/01/25 12:20:52]\u001b[0m\u001b[2;36m \u001b[0m\u001b[1;38;2;0;105;255mINFO    \u001b[0m Final Resource Status: \u001b[1mCreated\u001b[0m                                      \u001b]8;id=806051;file:///opt/conda/lib/python3.11/site-packages/sagemaker_core/main/resources.py\u001b\\\u001b[2mresources.py\u001b[0m\u001b]8;;\u001b\\\u001b[2m:\u001b[0m\u001b]8;id=913451;file:///opt/conda/lib/python3.11/site-packages/sagemaker_core/main/resources.py#10689\u001b\\\u001b[2m10689\u001b[0m\u001b]8;;\u001b\\\n"
      ]
     },
     "metadata": {},
     "output_type": "display_data"
    },
    {
     "data": {
      "text/html": [
       "<pre style=\"white-space:pre;overflow-x:auto;line-height:normal;font-family:Menlo,'DejaVu Sans Mono',consolas,'Courier New',monospace\"></pre>\n"
      ],
      "text/plain": []
     },
     "metadata": {},
     "output_type": "display_data"
    },
    {
     "data": {
      "application/vnd.jupyter.widget-view+json": {
       "model_id": "",
       "version_major": 2,
       "version_minor": 0
      },
      "text/plain": [
       "Output()"
      ]
     },
     "metadata": {},
     "output_type": "display_data"
    },
    {
     "name": "stdout",
     "output_type": "stream",
     "text": [
      "FeatureGroup customers-feature-group-01-12-20-28 successfully created.\n"
     ]
    },
    {
     "data": {
      "text/html": [
       "<pre style=\"white-space:pre;overflow-x:auto;line-height:normal;font-family:Menlo,'DejaVu Sans Mono',consolas,'Courier New',monospace\"><span style=\"color: #7fbfbf; text-decoration-color: #7fbfbf\">[04/01/25 12:21:17] </span><span style=\"color: #0069ff; text-decoration-color: #0069ff; font-weight: bold\">INFO    </span> Final Resource Status: <span style=\"font-weight: bold\">Created</span>                                      <a href=\"file:///opt/conda/lib/python3.11/site-packages/sagemaker_core/main/resources.py\" target=\"_blank\"><span style=\"color: #7f7f7f; text-decoration-color: #7f7f7f\">resources.py</span></a><span style=\"color: #7f7f7f; text-decoration-color: #7f7f7f\">:</span><a href=\"file:///opt/conda/lib/python3.11/site-packages/sagemaker_core/main/resources.py#10689\" target=\"_blank\"><span style=\"color: #7f7f7f; text-decoration-color: #7f7f7f\">10689</span></a>\n",
       "</pre>\n"
      ],
      "text/plain": [
       "\u001b[2;36m[04/01/25 12:21:17]\u001b[0m\u001b[2;36m \u001b[0m\u001b[1;38;2;0;105;255mINFO    \u001b[0m Final Resource Status: \u001b[1mCreated\u001b[0m                                      \u001b]8;id=241028;file:///opt/conda/lib/python3.11/site-packages/sagemaker_core/main/resources.py\u001b\\\u001b[2mresources.py\u001b[0m\u001b]8;;\u001b\\\u001b[2m:\u001b[0m\u001b]8;id=909785;file:///opt/conda/lib/python3.11/site-packages/sagemaker_core/main/resources.py#10689\u001b\\\u001b[2m10689\u001b[0m\u001b]8;;\u001b\\\n"
      ]
     },
     "metadata": {},
     "output_type": "display_data"
    },
    {
     "data": {
      "text/html": [
       "<pre style=\"white-space:pre;overflow-x:auto;line-height:normal;font-family:Menlo,'DejaVu Sans Mono',consolas,'Courier New',monospace\"></pre>\n"
      ],
      "text/plain": []
     },
     "metadata": {},
     "output_type": "display_data"
    },
    {
     "name": "stdout",
     "output_type": "stream",
     "text": [
      "FeatureGroup orders-feature-group-01-12-20-28 successfully created.\n"
     ]
    }
   ],
   "source": [
    "def check_feature_group_status(feature_group):\n",
    "    status = feature_group.wait_for_status(target_status=\"Created\")\n",
    "    print(f\"FeatureGroup {feature_group.get_name()} successfully created.\")\n",
    "\n",
    "\n",
    "check_feature_group_status(customers_feature_group)\n",
    "check_feature_group_status(orders_feature_group)"
   ]
  },
  {
   "cell_type": "markdown",
   "metadata": {},
   "source": [
    "### Add metadata to a feature\n",
    "\n",
    "We can add searchable metadata fields to FeatureGroup features by using the `FeatureMetadata` class. The currently supported metadata fields are `description` and `parameters`."
   ]
  },
  {
   "cell_type": "code",
   "execution_count": 84,
   "metadata": {},
   "outputs": [],
   "source": [
    "from sagemaker_core.resources import FeatureMetadata\n",
    "from sagemaker_core.shapes import FeatureParameter\n",
    "\n",
    "customers_feature_metadata = FeatureMetadata(\n",
    "    feature_group_name=customers_feature_group_name, feature_name=\"customer_id\"\n",
    ")"
   ]
  },
  {
   "cell_type": "code",
   "execution_count": 85,
   "metadata": {},
   "outputs": [
    {
     "data": {
      "text/html": [
       "<pre style=\"white-space:pre;overflow-x:auto;line-height:normal;font-family:Menlo,'DejaVu Sans Mono',consolas,'Courier New',monospace\"><span style=\"color: #7fbfbf; text-decoration-color: #7fbfbf\">                    </span><span style=\"color: #0069ff; text-decoration-color: #0069ff; font-weight: bold\">INFO    </span> Updating feature_metadata resource.                                 <a href=\"file:///opt/conda/lib/python3.11/site-packages/sagemaker_core/main/resources.py\" target=\"_blank\"><span style=\"color: #7f7f7f; text-decoration-color: #7f7f7f\">resources.py</span></a><span style=\"color: #7f7f7f; text-decoration-color: #7f7f7f\">:</span><a href=\"file:///opt/conda/lib/python3.11/site-packages/sagemaker_core/main/resources.py#11226\" target=\"_blank\"><span style=\"color: #7f7f7f; text-decoration-color: #7f7f7f\">11226</span></a>\n",
       "</pre>\n"
      ],
      "text/plain": [
       "\u001b[2;36m                   \u001b[0m\u001b[2;36m \u001b[0m\u001b[1;38;2;0;105;255mINFO    \u001b[0m Updating feature_metadata resource.                                 \u001b]8;id=211665;file:///opt/conda/lib/python3.11/site-packages/sagemaker_core/main/resources.py\u001b\\\u001b[2mresources.py\u001b[0m\u001b]8;;\u001b\\\u001b[2m:\u001b[0m\u001b]8;id=831404;file:///opt/conda/lib/python3.11/site-packages/sagemaker_core/main/resources.py#11226\u001b\\\u001b[2m11226\u001b[0m\u001b]8;;\u001b\\\n"
      ]
     },
     "metadata": {},
     "output_type": "display_data"
    },
    {
     "data": {
      "text/plain": [
       "FeatureMetadata(feature_group_name='customers-feature-group-01-12-20-28', feature_name='customer_id', feature_group_arn='arn:aws:sagemaker:us-east-1:590184044598:feature-group/customers-feature-group-01-12-20-28', feature_type='Integral', creation_time=datetime.datetime(2025, 4, 1, 12, 20, 34, 11000, tzinfo=tzlocal()), last_modified_time=datetime.datetime(2025, 4, 1, 12, 21, 18, 130000, tzinfo=tzlocal()), description='The ID of a customer. It is also used in orders_feature_group.', parameters=[FeatureParameter(key='idType', value='primaryKey')])"
      ]
     },
     "execution_count": 85,
     "metadata": {},
     "output_type": "execute_result"
    }
   ],
   "source": [
    "customers_feature_metadata.update(\n",
    "    description=\"The ID of a customer. It is also used in orders_feature_group.\",\n",
    "    parameter_additions=[FeatureParameter(key=\"idType\", value=\"primaryKey\")],\n",
    ")"
   ]
  },
  {
   "cell_type": "markdown",
   "metadata": {},
   "source": [
    "To view feature metadata, we can use `get` method to display that feature."
   ]
  },
  {
   "cell_type": "code",
   "execution_count": 86,
   "metadata": {},
   "outputs": [
    {
     "data": {
      "text/plain": [
       "FeatureMetadata(feature_group_name='customers-feature-group-01-12-20-28', feature_name='customer_id', feature_group_arn='arn:aws:sagemaker:us-east-1:590184044598:feature-group/customers-feature-group-01-12-20-28', feature_type='Integral', creation_time=datetime.datetime(2025, 4, 1, 12, 20, 34, 11000, tzinfo=tzlocal()), last_modified_time=datetime.datetime(2025, 4, 1, 12, 21, 18, 130000, tzinfo=tzlocal()), description='The ID of a customer. It is also used in orders_feature_group.', parameters=[FeatureParameter(key='idType', value='primaryKey')])"
      ]
     },
     "execution_count": 86,
     "metadata": {},
     "output_type": "execute_result"
    }
   ],
   "source": [
    "customers_feature_metadata.get(\n",
    "    feature_group_name=customers_feature_group_name, feature_name=\"customer_id\"\n",
    ")"
   ]
  },
  {
   "cell_type": "markdown",
   "metadata": {},
   "source": [
    "Feature metadata fields are searchable. We use `search` API to find features with metadata that matches some search criteria."
   ]
  },
  {
   "cell_type": "code",
   "execution_count": 87,
   "metadata": {},
   "outputs": [
    {
     "name": "stdout",
     "output_type": "stream",
     "text": [
      "Current region: us-east-1\n",
      "Current region: us-east-1\n",
      "Region from environment: us-east-1\n"
     ]
    }
   ],
   "source": [
    "# Method 1: If you already have a SageMaker session\n",
    "current_region = sagemaker_session.boto_session.region_name\n",
    "print(\"Current region:\", current_region)\n",
    "\n",
    "# Method 2: Using boto3 directly\n",
    "import boto3\n",
    "session = boto3.session.Session()\n",
    "current_region = session.region_name\n",
    "print(\"Current region:\", current_region)\n",
    "\n",
    "# Method 3: Check the AWS_REGION environment variable\n",
    "import os\n",
    "env_region = os.environ.get('AWS_REGION')\n",
    "print(\"Region from environment:\", env_region)"
   ]
  },
  {
   "cell_type": "code",
   "execution_count": 88,
   "metadata": {
    "scrolled": true
   },
   "outputs": [
    {
     "data": {
      "text/plain": [
       "{'Results': [{'FeatureMetadata': {'FeatureGroupArn': 'arn:aws:sagemaker:us-east-1:590184044598:feature-group/customers-feature-group-31-09-49-14',\n",
       "    'FeatureGroupName': 'customers-feature-group-31-09-49-14',\n",
       "    'FeatureName': 'customer_id',\n",
       "    'FeatureType': 'Integral',\n",
       "    'CreationTime': datetime.datetime(2025, 3, 31, 9, 49, 17, tzinfo=tzlocal()),\n",
       "    'LastModifiedTime': datetime.datetime(2025, 3, 31, 9, 49, 55, tzinfo=tzlocal()),\n",
       "    'Description': 'The ID of a customer. It is also used in orders_feature_group.',\n",
       "    'Parameters': [{'Key': 'idType', 'Value': 'primaryKey'}]}},\n",
       "  {'FeatureMetadata': {'FeatureGroupArn': 'arn:aws:sagemaker:us-east-1:590184044598:feature-group/customers-feature-group-31-09-23-12',\n",
       "    'FeatureGroupName': 'customers-feature-group-31-09-23-12',\n",
       "    'FeatureName': 'customer_id',\n",
       "    'FeatureType': 'Integral',\n",
       "    'CreationTime': datetime.datetime(2025, 3, 31, 9, 30, tzinfo=tzlocal()),\n",
       "    'LastModifiedTime': datetime.datetime(2025, 3, 31, 9, 46, 52, tzinfo=tzlocal()),\n",
       "    'Description': 'The ID of a customer. It is also used in orders_feature_group.',\n",
       "    'Parameters': [{'Key': 'idType', 'Value': 'primaryKey'}]}}],\n",
       " 'ResponseMetadata': {'RequestId': '95f71243-ddf8-4439-b77e-ae9a149f6e30',\n",
       "  'HTTPStatusCode': 200,\n",
       "  'HTTPHeaders': {'x-amzn-requestid': '95f71243-ddf8-4439-b77e-ae9a149f6e30',\n",
       "   'content-type': 'application/x-amz-json-1.1',\n",
       "   'content-length': '1002',\n",
       "   'date': 'Tue, 01 Apr 2025 12:21:18 GMT'},\n",
       "  'RetryAttempts': 0}}"
      ]
     },
     "execution_count": 88,
     "metadata": {},
     "output_type": "execute_result"
    }
   ],
   "source": [
    "sagemaker_session.boto_session.client(\"sagemaker\", region_name=current_region).search(\n",
    "    Resource=\"FeatureMetadata\",\n",
    "    SearchExpression={\n",
    "        \"Filters\": [\n",
    "            {\n",
    "                \"Name\": \"FeatureGroupName\",\n",
    "                \"Operator\": \"Contains\",\n",
    "                \"Value\": \"customers-feature-group-\",\n",
    "            },\n",
    "            {\"Name\": \"Parameters.idType\", \"Operator\": \"Equals\", \"Value\": \"primaryKey\"},\n",
    "        ]\n",
    "    },\n",
    ")  # We use the boto client to search"
   ]
  },
  {
   "cell_type": "markdown",
   "metadata": {},
   "source": [
    "### Ingest data into a feature group\n",
    "\n",
    "We can put data into the FeatureGroup by using the `PutRecord` API. It will take < 1 minute to ingest data."
   ]
  },
  {
   "cell_type": "code",
   "execution_count": 89,
   "metadata": {},
   "outputs": [],
   "source": [
    "# converting all columns to integral 64 type for further processing\n",
    "customer_data[\"customer_id\"] = pd.to_numeric(customer_data[\"customer_id\"]).astype(\"Int64\")\n",
    "customer_data[\"city_code\"] = pd.to_numeric(customer_data[\"city_code\"]).astype(\"Int64\")\n",
    "customer_data[\"state_code\"] = pd.to_numeric(customer_data[\"state_code\"]).astype(\"Int64\")\n",
    "customer_data[\"country_code\"] = pd.to_numeric(customer_data[\"country_code\"]).astype(\"Int64\")\n",
    "\n",
    "orders_data[\"customer_id\"] = pd.to_numeric(orders_data[\"customer_id\"]).astype(\"Int64\")\n",
    "orders_data[\"order_id\"] = pd.to_numeric(orders_data[\"order_id\"]).astype(\"Int64\")\n",
    "orders_data[\"order_status\"] = pd.to_numeric(orders_data[\"order_status\"]).astype(\"Int64\")\n",
    "orders_data[\"store_id\"] = pd.to_numeric(orders_data[\"store_id\"]).astype(\"Int64\")"
   ]
  },
  {
   "cell_type": "markdown",
   "metadata": {},
   "source": [
    "Creating `IngestData` function to ingest all dataframe records using `PutRecord` API call."
   ]
  },
  {
   "cell_type": "code",
   "execution_count": 90,
   "metadata": {
    "scrolled": true
   },
   "outputs": [],
   "source": [
    "from sagemaker_core.shapes import FeatureValue\n",
    "\n",
    "\n",
    "def IngestData(df, feature_group):\n",
    "    try:\n",
    "        feature_values_list = list()\n",
    "        for index, row in df.iterrows():\n",
    "            # Iterate through each column for the current row\n",
    "            for column in df.columns:\n",
    "                feature_values = FeatureValue(\n",
    "                    feature_name=str(column), value_as_string=str(row[column])\n",
    "                )\n",
    "                feature_values_list.append(feature_values)\n",
    "            feature_group.put_record(record=feature_values_list)\n",
    "            feature_values_list.clear()\n",
    "        SuccessString = f\"The dataframe with {len(df)} rows has been ingested successfully for feature group {feature_group.get_name()}\"\n",
    "        return SuccessString\n",
    "    except Exception as e:\n",
    "        # Handle any other exceptions\n",
    "        print(f\"An unexpected error occurred: {e}\")\n",
    "        return None"
   ]
  },
  {
   "cell_type": "code",
   "execution_count": 91,
   "metadata": {},
   "outputs": [
    {
     "data": {
      "text/plain": [
       "'The dataframe with 4 rows has been ingested successfully for feature group customers-feature-group-01-12-20-28'"
      ]
     },
     "execution_count": 91,
     "metadata": {},
     "output_type": "execute_result"
    }
   ],
   "source": [
    "IngestData(customer_data, customers_feature_group)"
   ]
  },
  {
   "cell_type": "code",
   "execution_count": 92,
   "metadata": {},
   "outputs": [
    {
     "data": {
      "text/plain": [
       "'The dataframe with 4 rows has been ingested successfully for feature group orders-feature-group-01-12-20-28'"
      ]
     },
     "execution_count": 92,
     "metadata": {},
     "output_type": "execute_result"
    }
   ],
   "source": [
    "IngestData(orders_data, orders_feature_group)"
   ]
  },
  {
   "cell_type": "markdown",
   "metadata": {},
   "source": [
    "Using an arbitrary customer record ID, 573291 we use `get_record` to check that the data has been ingested into the feature group."
   ]
  },
  {
   "cell_type": "code",
   "execution_count": 93,
   "metadata": {},
   "outputs": [],
   "source": [
    "customer_id = 573291\n",
    "sample_record = customers_feature_group.get_record(\n",
    "    record_identifier_value_as_string=str(customer_id)\n",
    ")"
   ]
  },
  {
   "cell_type": "code",
   "execution_count": 94,
   "metadata": {},
   "outputs": [
    {
     "data": {
      "text/plain": [
       "GetRecordResponse(record=[FeatureValue(feature_name='customer_id', value_as_string='573291', value_as_string_list=<sagemaker_core.main.utils.Unassigned object at 0x7fc60efaed90>), FeatureValue(feature_name='city_code', value_as_string='1', value_as_string_list=<sagemaker_core.main.utils.Unassigned object at 0x7fc60efaed90>), FeatureValue(feature_name='state_code', value_as_string='49', value_as_string_list=<sagemaker_core.main.utils.Unassigned object at 0x7fc60efaed90>), FeatureValue(feature_name='country_code', value_as_string='2', value_as_string_list=<sagemaker_core.main.utils.Unassigned object at 0x7fc60efaed90>), FeatureValue(feature_name='EventTime', value_as_string='1743510031.0', value_as_string_list=<sagemaker_core.main.utils.Unassigned object at 0x7fc60efaed90>)], expires_at=<sagemaker_core.main.utils.Unassigned object at 0x7fc60efaed90>)"
      ]
     },
     "execution_count": 94,
     "metadata": {},
     "output_type": "execute_result"
    }
   ],
   "source": [
    "sample_record"
   ]
  },
  {
   "cell_type": "markdown",
   "metadata": {},
   "source": [
    "We use `batch_get_record` to check that all data has been ingested into two feature groups by providing customer IDs."
   ]
  },
  {
   "cell_type": "code",
   "execution_count": 95,
   "metadata": {},
   "outputs": [],
   "source": [
    "from sagemaker_core.shapes import BatchGetRecordIdentifier\n",
    "\n",
    "all_records_customers = customers_feature_group.batch_get_record(\n",
    "    identifiers=[\n",
    "        BatchGetRecordIdentifier(\n",
    "            feature_group_name=customers_feature_group_name,\n",
    "            record_identifiers_value_as_string=[\"573291\", \"109382\", \"828400\", \"124013\"],\n",
    "        )\n",
    "    ]\n",
    ")"
   ]
  },
  {
   "cell_type": "code",
   "execution_count": 96,
   "metadata": {
    "scrolled": true
   },
   "outputs": [
    {
     "data": {
      "text/plain": [
       "BatchGetRecordResponse(records=[BatchGetRecordResultDetail(feature_group_name='customers-feature-group-01-12-20-28', record_identifier_value_as_string='573291', record=[FeatureValue(feature_name='customer_id', value_as_string='573291', value_as_string_list=<sagemaker_core.main.utils.Unassigned object at 0x7fc60efaed90>), FeatureValue(feature_name='city_code', value_as_string='1', value_as_string_list=<sagemaker_core.main.utils.Unassigned object at 0x7fc60efaed90>), FeatureValue(feature_name='state_code', value_as_string='49', value_as_string_list=<sagemaker_core.main.utils.Unassigned object at 0x7fc60efaed90>), FeatureValue(feature_name='country_code', value_as_string='2', value_as_string_list=<sagemaker_core.main.utils.Unassigned object at 0x7fc60efaed90>), FeatureValue(feature_name='EventTime', value_as_string='1743510031.0', value_as_string_list=<sagemaker_core.main.utils.Unassigned object at 0x7fc60efaed90>)], expires_at=<sagemaker_core.main.utils.Unassigned object at 0x7fc60efaed90>), BatchGetRecordResultDetail(feature_group_name='customers-feature-group-01-12-20-28', record_identifier_value_as_string='109382', record=[FeatureValue(feature_name='customer_id', value_as_string='109382', value_as_string_list=<sagemaker_core.main.utils.Unassigned object at 0x7fc60efaed90>), FeatureValue(feature_name='city_code', value_as_string='2', value_as_string_list=<sagemaker_core.main.utils.Unassigned object at 0x7fc60efaed90>), FeatureValue(feature_name='state_code', value_as_string='40', value_as_string_list=<sagemaker_core.main.utils.Unassigned object at 0x7fc60efaed90>), FeatureValue(feature_name='country_code', value_as_string='2', value_as_string_list=<sagemaker_core.main.utils.Unassigned object at 0x7fc60efaed90>), FeatureValue(feature_name='EventTime', value_as_string='1743510031.0', value_as_string_list=<sagemaker_core.main.utils.Unassigned object at 0x7fc60efaed90>)], expires_at=<sagemaker_core.main.utils.Unassigned object at 0x7fc60efaed90>), BatchGetRecordResultDetail(feature_group_name='customers-feature-group-01-12-20-28', record_identifier_value_as_string='124013', record=[FeatureValue(feature_name='customer_id', value_as_string='124013', value_as_string_list=<sagemaker_core.main.utils.Unassigned object at 0x7fc60efaed90>), FeatureValue(feature_name='city_code', value_as_string='4', value_as_string_list=<sagemaker_core.main.utils.Unassigned object at 0x7fc60efaed90>), FeatureValue(feature_name='state_code', value_as_string='5', value_as_string_list=<sagemaker_core.main.utils.Unassigned object at 0x7fc60efaed90>), FeatureValue(feature_name='country_code', value_as_string='2', value_as_string_list=<sagemaker_core.main.utils.Unassigned object at 0x7fc60efaed90>), FeatureValue(feature_name='EventTime', value_as_string='1743510031.0', value_as_string_list=<sagemaker_core.main.utils.Unassigned object at 0x7fc60efaed90>)], expires_at=<sagemaker_core.main.utils.Unassigned object at 0x7fc60efaed90>), BatchGetRecordResultDetail(feature_group_name='customers-feature-group-01-12-20-28', record_identifier_value_as_string='828400', record=[FeatureValue(feature_name='customer_id', value_as_string='828400', value_as_string_list=<sagemaker_core.main.utils.Unassigned object at 0x7fc60efaed90>), FeatureValue(feature_name='city_code', value_as_string='3', value_as_string_list=<sagemaker_core.main.utils.Unassigned object at 0x7fc60efaed90>), FeatureValue(feature_name='state_code', value_as_string='31', value_as_string_list=<sagemaker_core.main.utils.Unassigned object at 0x7fc60efaed90>), FeatureValue(feature_name='country_code', value_as_string='2', value_as_string_list=<sagemaker_core.main.utils.Unassigned object at 0x7fc60efaed90>), FeatureValue(feature_name='EventTime', value_as_string='1743510031.0', value_as_string_list=<sagemaker_core.main.utils.Unassigned object at 0x7fc60efaed90>)], expires_at=<sagemaker_core.main.utils.Unassigned object at 0x7fc60efaed90>)], errors=[], unprocessed_identifiers=[])"
      ]
     },
     "execution_count": 96,
     "metadata": {},
     "output_type": "execute_result"
    }
   ],
   "source": [
    "all_records_customers"
   ]
  },
  {
   "cell_type": "code",
   "execution_count": 97,
   "metadata": {},
   "outputs": [],
   "source": [
    "all_records_orders = orders_feature_group.batch_get_record(\n",
    "    identifiers=[\n",
    "        BatchGetRecordIdentifier(\n",
    "            feature_group_name=orders_feature_group_name,\n",
    "            record_identifiers_value_as_string=[\"573291\", \"109382\", \"828400\", \"124013\"],\n",
    "        )\n",
    "    ]\n",
    ")"
   ]
  },
  {
   "cell_type": "code",
   "execution_count": 98,
   "metadata": {},
   "outputs": [
    {
     "data": {
      "text/plain": [
       "BatchGetRecordResponse(records=[BatchGetRecordResultDetail(feature_group_name='orders-feature-group-01-12-20-28', record_identifier_value_as_string='573291', record=[FeatureValue(feature_name='customer_id', value_as_string='573291', value_as_string_list=<sagemaker_core.main.utils.Unassigned object at 0x7fc60efaed90>), FeatureValue(feature_name='order_id', value_as_string='4132', value_as_string_list=<sagemaker_core.main.utils.Unassigned object at 0x7fc60efaed90>), FeatureValue(feature_name='order_status', value_as_string='1', value_as_string_list=<sagemaker_core.main.utils.Unassigned object at 0x7fc60efaed90>), FeatureValue(feature_name='store_id', value_as_string='303', value_as_string_list=<sagemaker_core.main.utils.Unassigned object at 0x7fc60efaed90>), FeatureValue(feature_name='EventTime', value_as_string='1743510031.0', value_as_string_list=<sagemaker_core.main.utils.Unassigned object at 0x7fc60efaed90>)], expires_at=<sagemaker_core.main.utils.Unassigned object at 0x7fc60efaed90>), BatchGetRecordResultDetail(feature_group_name='orders-feature-group-01-12-20-28', record_identifier_value_as_string='109382', record=[FeatureValue(feature_name='customer_id', value_as_string='109382', value_as_string_list=<sagemaker_core.main.utils.Unassigned object at 0x7fc60efaed90>), FeatureValue(feature_name='order_id', value_as_string='5724', value_as_string_list=<sagemaker_core.main.utils.Unassigned object at 0x7fc60efaed90>), FeatureValue(feature_name='order_status', value_as_string='0', value_as_string_list=<sagemaker_core.main.utils.Unassigned object at 0x7fc60efaed90>), FeatureValue(feature_name='store_id', value_as_string='201', value_as_string_list=<sagemaker_core.main.utils.Unassigned object at 0x7fc60efaed90>), FeatureValue(feature_name='EventTime', value_as_string='1743510031.0', value_as_string_list=<sagemaker_core.main.utils.Unassigned object at 0x7fc60efaed90>)], expires_at=<sagemaker_core.main.utils.Unassigned object at 0x7fc60efaed90>), BatchGetRecordResultDetail(feature_group_name='orders-feature-group-01-12-20-28', record_identifier_value_as_string='124013', record=[FeatureValue(feature_name='customer_id', value_as_string='124013', value_as_string_list=<sagemaker_core.main.utils.Unassigned object at 0x7fc60efaed90>), FeatureValue(feature_name='order_id', value_as_string='6782', value_as_string_list=<sagemaker_core.main.utils.Unassigned object at 0x7fc60efaed90>), FeatureValue(feature_name='order_status', value_as_string='1', value_as_string_list=<sagemaker_core.main.utils.Unassigned object at 0x7fc60efaed90>), FeatureValue(feature_name='store_id', value_as_string='213', value_as_string_list=<sagemaker_core.main.utils.Unassigned object at 0x7fc60efaed90>), FeatureValue(feature_name='EventTime', value_as_string='1743510031.0', value_as_string_list=<sagemaker_core.main.utils.Unassigned object at 0x7fc60efaed90>)], expires_at=<sagemaker_core.main.utils.Unassigned object at 0x7fc60efaed90>), BatchGetRecordResultDetail(feature_group_name='orders-feature-group-01-12-20-28', record_identifier_value_as_string='828400', record=[FeatureValue(feature_name='customer_id', value_as_string='828400', value_as_string_list=<sagemaker_core.main.utils.Unassigned object at 0x7fc60efaed90>), FeatureValue(feature_name='order_id', value_as_string='1942', value_as_string_list=<sagemaker_core.main.utils.Unassigned object at 0x7fc60efaed90>), FeatureValue(feature_name='order_status', value_as_string='0', value_as_string_list=<sagemaker_core.main.utils.Unassigned object at 0x7fc60efaed90>), FeatureValue(feature_name='store_id', value_as_string='431', value_as_string_list=<sagemaker_core.main.utils.Unassigned object at 0x7fc60efaed90>), FeatureValue(feature_name='EventTime', value_as_string='1743510031.0', value_as_string_list=<sagemaker_core.main.utils.Unassigned object at 0x7fc60efaed90>)], expires_at=<sagemaker_core.main.utils.Unassigned object at 0x7fc60efaed90>)], errors=[], unprocessed_identifiers=[])"
      ]
     },
     "execution_count": 98,
     "metadata": {},
     "output_type": "execute_result"
    }
   ],
   "source": [
    "all_records_orders"
   ]
  },
  {
   "cell_type": "markdown",
   "metadata": {},
   "source": [
    "### Add features to a feature group\n",
    "\n",
    "If we want to update a FeatureGroup that has done the data ingestion, we can use the `Update` function and then re-ingest data by using the updated dataset."
   ]
  },
  {
   "cell_type": "code",
   "execution_count": 118,
   "metadata": {},
   "outputs": [
    {
     "name": "stdout",
     "output_type": "stream",
     "text": [
      "Feature group details:\n",
      "Type: <class 'sagemaker_core.main.resources.FeatureGroup'>\n",
      "Available attributes: ['__abstractmethods__', '__annotations__', '__class__', '__class_getitem__', '__class_vars__', '__copy__', '__deepcopy__', '__delattr__', '__dict__', '__dir__', '__doc__', '__eq__', '__fields__', '__fields_set__', '__format__', '__ge__', '__get_pydantic_core_schema__', '__get_pydantic_json_schema__', '__getattr__', '__getattribute__', '__getstate__', '__gt__', '__hash__', '__init__', '__init_subclass__', '__iter__', '__le__', '__lt__', '__module__', '__ne__', '__new__', '__pretty__', '__private_attributes__', '__pydantic_complete__', '__pydantic_computed_fields__', '__pydantic_core_schema__', '__pydantic_custom_init__', '__pydantic_decorators__', '__pydantic_extra__', '__pydantic_fields__', '__pydantic_fields_set__', '__pydantic_generic_metadata__', '__pydantic_init_subclass__', '__pydantic_parent_namespace__', '__pydantic_post_init__', '__pydantic_private__', '__pydantic_root_model__', '__pydantic_serializer__', '__pydantic_validator__', '__reduce__', '__reduce_ex__', '__replace__', '__repr__', '__repr_args__', '__repr_name__', '__repr_recursion__', '__repr_str__', '__rich_repr__', '__setattr__', '__setstate__', '__signature__', '__sizeof__', '__slots__', '__str__', '__subclasshook__', '__weakref__', '_abc_impl', '_calculate_keys', '_check_frozen', '_copy_and_set_values', '_get_chained_attribute', '_get_value', '_iter', 'add_validate_call', 'batch_get_record', 'construct', 'copy', 'create', 'creation_time', 'delete', 'delete_record', 'description', 'dict', 'event_time_feature_name', 'failure_reason', 'feature_definitions', 'feature_group_arn', 'feature_group_name', 'feature_group_status', 'from_orm', 'get', 'get_all', 'get_name', 'get_record', 'get_sagemaker_client', 'get_updated_kwargs_with_configured_attributes', 'json', 'last_modified_time', 'last_update_status', 'model_computed_fields', 'model_config', 'model_construct', 'model_copy', 'model_dump', 'model_dump_json', 'model_extra', 'model_fields', 'model_fields_set', 'model_json_schema', 'model_parametrized_name', 'model_post_init', 'model_rebuild', 'model_validate', 'model_validate_json', 'model_validate_strings', 'next_token', 'offline_store_config', 'offline_store_status', 'online_store_config', 'online_store_total_size_bytes', 'parse_file', 'parse_obj', 'parse_raw', 'populate_chained_attributes', 'populate_inputs_decorator', 'put_record', 'record_identifier_feature_name', 'refresh', 'role_arn', 'schema', 'schema_json', 'throughput_config', 'update', 'update_forward_refs', 'validate', 'wait_for_delete', 'wait_for_status']\n",
      "Found name attribute 'feature_group_name': customers-feature-group-01-12-20-28\n",
      "Found name attribute 'feature_group_arn': arn:aws:sagemaker:us-east-1:590184044598:feature-group/customers-feature-group-01-12-20-28\n",
      "Found name attribute '__str__': <bound method BaseModel.__str__ of FeatureGroup(feature_group_name='customers-feature-group-01-12-20-28', feature_group_arn='arn:aws:sagemaker:us-east-1:590184044598:feature-group/customers-feature-group-01-12-20-28', record_identifier_feature_name='customer_id', event_time_feature_name='EventTime', feature_definitions=[FeatureDefinition(feature_name='customer_id', feature_type='Integral', collection_type=<sagemaker_core.main.utils.Unassigned object at 0x7fc60efaed90>, collection_config=<sagemaker_core.main.utils.Unassigned object at 0x7fc60efaed90>), FeatureDefinition(feature_name='city_code', feature_type='Integral', collection_type=<sagemaker_core.main.utils.Unassigned object at 0x7fc60efaed90>, collection_config=<sagemaker_core.main.utils.Unassigned object at 0x7fc60efaed90>), FeatureDefinition(feature_name='state_code', feature_type='Integral', collection_type=<sagemaker_core.main.utils.Unassigned object at 0x7fc60efaed90>, collection_config=<sagemaker_core.main.utils.Unassigned object at 0x7fc60efaed90>), FeatureDefinition(feature_name='country_code', feature_type='Integral', collection_type=<sagemaker_core.main.utils.Unassigned object at 0x7fc60efaed90>, collection_config=<sagemaker_core.main.utils.Unassigned object at 0x7fc60efaed90>), FeatureDefinition(feature_name='EventTime', feature_type='Fractional', collection_type=<sagemaker_core.main.utils.Unassigned object at 0x7fc60efaed90>, collection_config=<sagemaker_core.main.utils.Unassigned object at 0x7fc60efaed90>)], creation_time=datetime.datetime(2025, 4, 1, 12, 20, 34, 11000, tzinfo=tzlocal()), last_modified_time=datetime.datetime(2025, 4, 1, 12, 21, 19, 318000, tzinfo=tzlocal()), online_store_config=OnlineStoreConfig(security_config=<sagemaker_core.main.utils.Unassigned object at 0x7fc60efaed90>, enable_online_store=True, ttl_duration=<sagemaker_core.main.utils.Unassigned object at 0x7fc60efaed90>, storage_type=<sagemaker_core.main.utils.Unassigned object at 0x7fc60efaed90>), offline_store_config=OfflineStoreConfig(s3_storage_config=S3StorageConfig(s3_uri='s3://sagemaker-us-east-1-590184044598/sagemaker-featurestore-introduction', kms_key_id=<sagemaker_core.main.utils.Unassigned object at 0x7fc60efaed90>, resolved_output_s3_uri='s3://sagemaker-us-east-1-590184044598/sagemaker-featurestore-introduction/590184044598/sagemaker/us-east-1/offline-store/customers-feature-group-01-12-20-28-1743510034/data'), disable_glue_table_creation=False, data_catalog_config=DataCatalogConfig(table_name='customers_feature_group_01_12_20_28_1743510034', catalog='AwsDataCatalog', database='sagemaker_featurestore'), table_format=<sagemaker_core.main.utils.Unassigned object at 0x7fc60efaed90>), throughput_config=ThroughputConfigDescription(throughput_mode='OnDemand', provisioned_read_capacity_units=<sagemaker_core.main.utils.Unassigned object at 0x7fc60efaed90>, provisioned_write_capacity_units=<sagemaker_core.main.utils.Unassigned object at 0x7fc60efaed90>), role_arn='arn:aws:iam::590184044598:role/service-role/SageMaker-ExecutionRole-20250115T132367', feature_group_status='Created', offline_store_status=<sagemaker_core.main.utils.Unassigned object at 0x7fc60efaed90>, last_update_status=LastUpdateStatus(status='InProgress', failure_reason=<sagemaker_core.main.utils.Unassigned object at 0x7fc60efaed90>), failure_reason=<sagemaker_core.main.utils.Unassigned object at 0x7fc60efaed90>, description=<sagemaker_core.main.utils.Unassigned object at 0x7fc60efaed90>, next_token=<sagemaker_core.main.utils.Unassigned object at 0x7fc60efaed90>, online_store_total_size_bytes=0)>\n",
      "Feature-related attributes: ['event_time_feature_name', 'feature_definitions', 'feature_group_arn', 'feature_group_name', 'feature_group_status', 'record_identifier_feature_name']\n",
      "Value of event_time_feature_name: EventTime\n",
      "Value of feature_definitions: [FeatureDefinition(feature_name='customer_id', feature_type='Integral', collection_type=<sagemaker_core.main.utils.Unassigned object at 0x7fc60efaed90>, collection_config=<sagemaker_core.main.utils.Unassigned object at 0x7fc60efaed90>), FeatureDefinition(feature_name='city_code', feature_type='Integral', collection_type=<sagemaker_core.main.utils.Unassigned object at 0x7fc60efaed90>, collection_config=<sagemaker_core.main.utils.Unassigned object at 0x7fc60efaed90>), FeatureDefinition(feature_name='state_code', feature_type='Integral', collection_type=<sagemaker_core.main.utils.Unassigned object at 0x7fc60efaed90>, collection_config=<sagemaker_core.main.utils.Unassigned object at 0x7fc60efaed90>), FeatureDefinition(feature_name='country_code', feature_type='Integral', collection_type=<sagemaker_core.main.utils.Unassigned object at 0x7fc60efaed90>, collection_config=<sagemaker_core.main.utils.Unassigned object at 0x7fc60efaed90>), FeatureDefinition(feature_name='EventTime', feature_type='Fractional', collection_type=<sagemaker_core.main.utils.Unassigned object at 0x7fc60efaed90>, collection_config=<sagemaker_core.main.utils.Unassigned object at 0x7fc60efaed90>)]\n",
      "Value of feature_group_arn: arn:aws:sagemaker:us-east-1:590184044598:feature-group/customers-feature-group-01-12-20-28\n",
      "Value of feature_group_name: customers-feature-group-01-12-20-28\n",
      "Value of feature_group_status: Created\n",
      "Value of record_identifier_feature_name: customer_id\n"
     ]
    }
   ],
   "source": [
    "# Print details about the feature group to understand what we're working with\n",
    "print(\"Feature group details:\")\n",
    "print(f\"Type: {type(customers_feature_group)}\")\n",
    "print(f\"Available attributes: {dir(customers_feature_group)}\")\n",
    "\n",
    "# Try to identify the feature group name\n",
    "# Try different possible attributes that might contain the name\n",
    "possible_name_attrs = ['name', 'feature_group_name', 'feature_group_arn', '__str__', 'Name', 'FeatureGroupName']\n",
    "for attr in possible_name_attrs:\n",
    "    if hasattr(customers_feature_group, attr):\n",
    "        print(f\"Found name attribute '{attr}': {getattr(customers_feature_group, attr)}\")\n",
    "\n",
    "# Check if there are any attributes related to features\n",
    "feature_related_attrs = [attr for attr in dir(customers_feature_group) if 'feature' in attr.lower()]\n",
    "print(f\"Feature-related attributes: {feature_related_attrs}\")\n",
    "\n",
    "# Try to list features using any relevant attribute\n",
    "for attr in feature_related_attrs:\n",
    "    try:\n",
    "        value = getattr(customers_feature_group, attr)\n",
    "        print(f\"Value of {attr}: {value}\")\n",
    "    except Exception as e:\n",
    "        print(f\"Error accessing {attr}: {e}\")"
   ]
  },
  {
   "cell_type": "code",
   "execution_count": 119,
   "metadata": {},
   "outputs": [
    {
     "name": "stdout",
     "output_type": "stream",
     "text": [
      "Waiting for in-progress updates to complete...\n",
      "Updated feature definitions:\n",
      "[FeatureDefinition(feature_name='customer_id', feature_type='Integral', collection_type=<sagemaker_core.main.utils.Unassigned object at 0x7fc60efaed90>, collection_config=<sagemaker_core.main.utils.Unassigned object at 0x7fc60efaed90>), FeatureDefinition(feature_name='city_code', feature_type='Integral', collection_type=<sagemaker_core.main.utils.Unassigned object at 0x7fc60efaed90>, collection_config=<sagemaker_core.main.utils.Unassigned object at 0x7fc60efaed90>), FeatureDefinition(feature_name='state_code', feature_type='Integral', collection_type=<sagemaker_core.main.utils.Unassigned object at 0x7fc60efaed90>, collection_config=<sagemaker_core.main.utils.Unassigned object at 0x7fc60efaed90>), FeatureDefinition(feature_name='country_code', feature_type='Integral', collection_type=<sagemaker_core.main.utils.Unassigned object at 0x7fc60efaed90>, collection_config=<sagemaker_core.main.utils.Unassigned object at 0x7fc60efaed90>), FeatureDefinition(feature_name='EventTime', feature_type='Fractional', collection_type=<sagemaker_core.main.utils.Unassigned object at 0x7fc60efaed90>, collection_config=<sagemaker_core.main.utils.Unassigned object at 0x7fc60efaed90>), FeatureDefinition(feature_name='email', feature_type='String', collection_type=<sagemaker_core.main.utils.Unassigned object at 0x7fc60efaed90>, collection_config=<sagemaker_core.main.utils.Unassigned object at 0x7fc60efaed90>), FeatureDefinition(feature_name='name', feature_type='String', collection_type=<sagemaker_core.main.utils.Unassigned object at 0x7fc60efaed90>, collection_config=<sagemaker_core.main.utils.Unassigned object at 0x7fc60efaed90>)]\n"
     ]
    },
    {
     "data": {
      "text/html": [
       "<pre style=\"white-space:pre;overflow-x:auto;line-height:normal;font-family:Menlo,'DejaVu Sans Mono',consolas,'Courier New',monospace\"><span style=\"color: #7fbfbf; text-decoration-color: #7fbfbf\">[04/01/25 12:56:41] </span><span style=\"color: #0069ff; text-decoration-color: #0069ff; font-weight: bold\">INFO    </span> Updating feature_group resource.                                    <a href=\"file:///opt/conda/lib/python3.11/site-packages/sagemaker_core/main/resources.py\" target=\"_blank\"><span style=\"color: #7f7f7f; text-decoration-color: #7f7f7f\">resources.py</span></a><span style=\"color: #7f7f7f; text-decoration-color: #7f7f7f\">:</span><a href=\"file:///opt/conda/lib/python3.11/site-packages/sagemaker_core/main/resources.py#10591\" target=\"_blank\"><span style=\"color: #7f7f7f; text-decoration-color: #7f7f7f\">10591</span></a>\n",
       "</pre>\n"
      ],
      "text/plain": [
       "\u001b[2;36m[04/01/25 12:56:41]\u001b[0m\u001b[2;36m \u001b[0m\u001b[1;38;2;0;105;255mINFO    \u001b[0m Updating feature_group resource.                                    \u001b]8;id=575771;file:///opt/conda/lib/python3.11/site-packages/sagemaker_core/main/resources.py\u001b\\\u001b[2mresources.py\u001b[0m\u001b]8;;\u001b\\\u001b[2m:\u001b[0m\u001b]8;id=210756;file:///opt/conda/lib/python3.11/site-packages/sagemaker_core/main/resources.py#10591\u001b\\\u001b[2m10591\u001b[0m\u001b]8;;\u001b\\\n"
      ]
     },
     "metadata": {},
     "output_type": "display_data"
    },
    {
     "name": "stdout",
     "output_type": "stream",
     "text": [
      "Added new features with different names successfully\n"
     ]
    }
   ],
   "source": [
    "# 1. Wait for any in-progress updates to complete\n",
    "import time\n",
    "print(\"Waiting for in-progress updates to complete...\")\n",
    "time.sleep(180)  # Wait 3 minutes\n",
    "\n",
    "# 2. Refresh the feature group to get its latest state\n",
    "customers_feature_group.refresh()\n",
    "\n",
    "# 3. Print feature definitions again to see if they've changed\n",
    "print(\"Updated feature definitions:\")\n",
    "print(customers_feature_group.feature_definitions)\n",
    "\n",
    "# 4. Try with different feature names to avoid conflicts\n",
    "try:\n",
    "    customers_feature_group.update(\n",
    "        feature_additions=[\n",
    "            {\"feature_name\": \"customer_fullname\", \"feature_type\": \"String\"},\n",
    "            {\"feature_name\": \"customer_email_address\", \"feature_type\": \"String\"}\n",
    "        ]\n",
    "    )\n",
    "    print(\"Added new features with different names successfully\")\n",
    "except Exception as e:\n",
    "    print(f\"Error adding features with different names: {e}\")"
   ]
  },
  {
   "cell_type": "code",
   "execution_count": 121,
   "metadata": {},
   "outputs": [],
   "source": [
    "# from sagemaker.feature_store.feature_definition import FeatureDefinition\n",
    "\n",
    "# # Add only the email feature (since 'name' already exists)\n",
    "# customers_feature_group.update(\n",
    "#     feature_additions=[\n",
    "#         {\"feature_name\": \"email\", \"feature_type\": \"String\"}\n",
    "#     ]\n",
    "# )\n",
    "# time.sleep(120)  # waiting for 120 seconds for the update process to get completed"
   ]
  },
  {
   "cell_type": "markdown",
   "metadata": {},
   "source": [
    "Inspect the new dataset."
   ]
  },
  {
   "cell_type": "code",
   "execution_count": 122,
   "metadata": {},
   "outputs": [
    {
     "data": {
      "text/html": [
       "<pre style=\"white-space:pre;overflow-x:auto;line-height:normal;font-family:Menlo,'DejaVu Sans Mono',consolas,'Courier New',monospace\"><span style=\"color: #ff0000; text-decoration-color: #ff0000\">╭─────────────────────────────── </span><span style=\"color: #ff0000; text-decoration-color: #ff0000; font-weight: bold\">Traceback </span><span style=\"color: #ff7f7f; text-decoration-color: #ff7f7f; font-weight: bold\">(most recent call last)</span><span style=\"color: #ff0000; text-decoration-color: #ff0000\"> ────────────────────────────────╮</span>\n",
       "<span style=\"color: #ff0000; text-decoration-color: #ff0000\">│</span> in <span style=\"color: #00ff00; text-decoration-color: #00ff00\">&lt;module&gt;</span>:<span style=\"color: #0000ff; text-decoration-color: #0000ff\">1</span>                                                                                    <span style=\"color: #ff0000; text-decoration-color: #ff0000\">│</span>\n",
       "<span style=\"color: #ff0000; text-decoration-color: #ff0000\">│</span>                                                                                                  <span style=\"color: #ff0000; text-decoration-color: #ff0000\">│</span>\n",
       "<span style=\"color: #ff0000; text-decoration-color: #ff0000\">│</span> <span style=\"color: #800000; text-decoration-color: #800000\">❱ </span>1 customer_data_updated = <span style=\"font-weight: bold; text-decoration: underline\">pd.read_csv(</span><span style=\"color: #808000; text-decoration-color: #808000; font-weight: bold; text-decoration: underline\">\"feature_store_introduction_customer_updated.csv\"</span><span style=\"font-weight: bold; text-decoration: underline\">)</span>       <span style=\"color: #ff0000; text-decoration-color: #ff0000\">│</span>\n",
       "<span style=\"color: #ff0000; text-decoration-color: #ff0000\">│</span>   <span style=\"color: #7f7f7f; text-decoration-color: #7f7f7f\">2 </span>                                                                                             <span style=\"color: #ff0000; text-decoration-color: #ff0000\">│</span>\n",
       "<span style=\"color: #ff0000; text-decoration-color: #ff0000\">│</span>                                                                                                  <span style=\"color: #ff0000; text-decoration-color: #ff0000\">│</span>\n",
       "<span style=\"color: #ff0000; text-decoration-color: #ff0000\">│</span> <span style=\"color: #bfbf7f; text-decoration-color: #bfbf7f\">/opt/conda/lib/python3.11/site-packages/pandas/io/parsers/</span><span style=\"color: #808000; text-decoration-color: #808000; font-weight: bold\">readers.py</span>:<span style=\"color: #0000ff; text-decoration-color: #0000ff\">1026</span> in <span style=\"color: #00ff00; text-decoration-color: #00ff00\">read_csv</span>            <span style=\"color: #ff0000; text-decoration-color: #ff0000\">│</span>\n",
       "<span style=\"color: #ff0000; text-decoration-color: #ff0000\">│</span>                                                                                                  <span style=\"color: #ff0000; text-decoration-color: #ff0000\">│</span>\n",
       "<span style=\"color: #ff0000; text-decoration-color: #ff0000\">│</span>   <span style=\"color: #7f7f7f; text-decoration-color: #7f7f7f\">1023 </span><span style=\"color: #7f7f7f; text-decoration-color: #7f7f7f\">│   </span>)                                                                                     <span style=\"color: #ff0000; text-decoration-color: #ff0000\">│</span>\n",
       "<span style=\"color: #ff0000; text-decoration-color: #ff0000\">│</span>   <span style=\"color: #7f7f7f; text-decoration-color: #7f7f7f\">1024 </span><span style=\"color: #7f7f7f; text-decoration-color: #7f7f7f\">│   </span>kwds.update(kwds_defaults)                                                            <span style=\"color: #ff0000; text-decoration-color: #ff0000\">│</span>\n",
       "<span style=\"color: #ff0000; text-decoration-color: #ff0000\">│</span>   <span style=\"color: #7f7f7f; text-decoration-color: #7f7f7f\">1025 </span><span style=\"color: #7f7f7f; text-decoration-color: #7f7f7f\">│   </span>                                                                                      <span style=\"color: #ff0000; text-decoration-color: #ff0000\">│</span>\n",
       "<span style=\"color: #ff0000; text-decoration-color: #ff0000\">│</span> <span style=\"color: #800000; text-decoration-color: #800000\">❱ </span>1026 <span style=\"color: #7f7f7f; text-decoration-color: #7f7f7f\">│   </span><span style=\"color: #0000ff; text-decoration-color: #0000ff\">return</span> <span style=\"font-weight: bold; text-decoration: underline\">_read(filepath_or_buffer, kwds)</span>                                                <span style=\"color: #ff0000; text-decoration-color: #ff0000\">│</span>\n",
       "<span style=\"color: #ff0000; text-decoration-color: #ff0000\">│</span>   <span style=\"color: #7f7f7f; text-decoration-color: #7f7f7f\">1027 </span>                                                                                          <span style=\"color: #ff0000; text-decoration-color: #ff0000\">│</span>\n",
       "<span style=\"color: #ff0000; text-decoration-color: #ff0000\">│</span>   <span style=\"color: #7f7f7f; text-decoration-color: #7f7f7f\">1028 </span>                                                                                          <span style=\"color: #ff0000; text-decoration-color: #ff0000\">│</span>\n",
       "<span style=\"color: #ff0000; text-decoration-color: #ff0000\">│</span>   <span style=\"color: #7f7f7f; text-decoration-color: #7f7f7f\">1029 # iterator=True -&gt; TextFileReader</span>                                                         <span style=\"color: #ff0000; text-decoration-color: #ff0000\">│</span>\n",
       "<span style=\"color: #ff0000; text-decoration-color: #ff0000\">│</span>                                                                                                  <span style=\"color: #ff0000; text-decoration-color: #ff0000\">│</span>\n",
       "<span style=\"color: #ff0000; text-decoration-color: #ff0000\">│</span> <span style=\"color: #bfbf7f; text-decoration-color: #bfbf7f\">/opt/conda/lib/python3.11/site-packages/pandas/io/parsers/</span><span style=\"color: #808000; text-decoration-color: #808000; font-weight: bold\">readers.py</span>:<span style=\"color: #0000ff; text-decoration-color: #0000ff\">620</span> in <span style=\"color: #00ff00; text-decoration-color: #00ff00\">_read</span>                <span style=\"color: #ff0000; text-decoration-color: #ff0000\">│</span>\n",
       "<span style=\"color: #ff0000; text-decoration-color: #ff0000\">│</span>                                                                                                  <span style=\"color: #ff0000; text-decoration-color: #ff0000\">│</span>\n",
       "<span style=\"color: #ff0000; text-decoration-color: #ff0000\">│</span>   <span style=\"color: #7f7f7f; text-decoration-color: #7f7f7f\"> 617 </span><span style=\"color: #7f7f7f; text-decoration-color: #7f7f7f\">│   </span>_validate_names(kwds.get(<span style=\"color: #808000; text-decoration-color: #808000\">\"names\"</span>, <span style=\"color: #0000ff; text-decoration-color: #0000ff\">None</span>))                                              <span style=\"color: #ff0000; text-decoration-color: #ff0000\">│</span>\n",
       "<span style=\"color: #ff0000; text-decoration-color: #ff0000\">│</span>   <span style=\"color: #7f7f7f; text-decoration-color: #7f7f7f\"> 618 </span><span style=\"color: #7f7f7f; text-decoration-color: #7f7f7f\">│   </span>                                                                                      <span style=\"color: #ff0000; text-decoration-color: #ff0000\">│</span>\n",
       "<span style=\"color: #ff0000; text-decoration-color: #ff0000\">│</span>   <span style=\"color: #7f7f7f; text-decoration-color: #7f7f7f\"> 619 </span><span style=\"color: #7f7f7f; text-decoration-color: #7f7f7f\">│   </span><span style=\"color: #7f7f7f; text-decoration-color: #7f7f7f\"># Create the parser.</span>                                                                  <span style=\"color: #ff0000; text-decoration-color: #ff0000\">│</span>\n",
       "<span style=\"color: #ff0000; text-decoration-color: #ff0000\">│</span> <span style=\"color: #800000; text-decoration-color: #800000\">❱ </span> 620 <span style=\"color: #7f7f7f; text-decoration-color: #7f7f7f\">│   </span>parser = <span style=\"font-weight: bold; text-decoration: underline\">TextFileReader(filepath_or_buffer, **kwds)</span>                                   <span style=\"color: #ff0000; text-decoration-color: #ff0000\">│</span>\n",
       "<span style=\"color: #ff0000; text-decoration-color: #ff0000\">│</span>   <span style=\"color: #7f7f7f; text-decoration-color: #7f7f7f\"> 621 </span><span style=\"color: #7f7f7f; text-decoration-color: #7f7f7f\">│   </span>                                                                                      <span style=\"color: #ff0000; text-decoration-color: #ff0000\">│</span>\n",
       "<span style=\"color: #ff0000; text-decoration-color: #ff0000\">│</span>   <span style=\"color: #7f7f7f; text-decoration-color: #7f7f7f\"> 622 </span><span style=\"color: #7f7f7f; text-decoration-color: #7f7f7f\">│   </span><span style=\"color: #0000ff; text-decoration-color: #0000ff\">if</span> chunksize <span style=\"color: #ff00ff; text-decoration-color: #ff00ff\">or</span> iterator:                                                             <span style=\"color: #ff0000; text-decoration-color: #ff0000\">│</span>\n",
       "<span style=\"color: #ff0000; text-decoration-color: #ff0000\">│</span>   <span style=\"color: #7f7f7f; text-decoration-color: #7f7f7f\"> 623 </span><span style=\"color: #7f7f7f; text-decoration-color: #7f7f7f\">│   │   </span><span style=\"color: #0000ff; text-decoration-color: #0000ff\">return</span> parser                                                                     <span style=\"color: #ff0000; text-decoration-color: #ff0000\">│</span>\n",
       "<span style=\"color: #ff0000; text-decoration-color: #ff0000\">│</span>                                                                                                  <span style=\"color: #ff0000; text-decoration-color: #ff0000\">│</span>\n",
       "<span style=\"color: #ff0000; text-decoration-color: #ff0000\">│</span> <span style=\"color: #bfbf7f; text-decoration-color: #bfbf7f\">/opt/conda/lib/python3.11/site-packages/pandas/io/parsers/</span><span style=\"color: #808000; text-decoration-color: #808000; font-weight: bold\">readers.py</span>:<span style=\"color: #0000ff; text-decoration-color: #0000ff\">1620</span> in <span style=\"color: #00ff00; text-decoration-color: #00ff00\">__init__</span>            <span style=\"color: #ff0000; text-decoration-color: #ff0000\">│</span>\n",
       "<span style=\"color: #ff0000; text-decoration-color: #ff0000\">│</span>                                                                                                  <span style=\"color: #ff0000; text-decoration-color: #ff0000\">│</span>\n",
       "<span style=\"color: #ff0000; text-decoration-color: #ff0000\">│</span>   <span style=\"color: #7f7f7f; text-decoration-color: #7f7f7f\">1617 </span><span style=\"color: #7f7f7f; text-decoration-color: #7f7f7f\">│   │   │   </span><span style=\"color: #00ffff; text-decoration-color: #00ffff\">self</span>.options[<span style=\"color: #808000; text-decoration-color: #808000\">\"has_index_names\"</span>] = kwds[<span style=\"color: #808000; text-decoration-color: #808000\">\"has_index_names\"</span>]                     <span style=\"color: #ff0000; text-decoration-color: #ff0000\">│</span>\n",
       "<span style=\"color: #ff0000; text-decoration-color: #ff0000\">│</span>   <span style=\"color: #7f7f7f; text-decoration-color: #7f7f7f\">1618 </span><span style=\"color: #7f7f7f; text-decoration-color: #7f7f7f\">│   │   </span>                                                                                  <span style=\"color: #ff0000; text-decoration-color: #ff0000\">│</span>\n",
       "<span style=\"color: #ff0000; text-decoration-color: #ff0000\">│</span>   <span style=\"color: #7f7f7f; text-decoration-color: #7f7f7f\">1619 </span><span style=\"color: #7f7f7f; text-decoration-color: #7f7f7f\">│   │   </span><span style=\"color: #00ffff; text-decoration-color: #00ffff\">self</span>.handles: IOHandles | <span style=\"color: #0000ff; text-decoration-color: #0000ff\">None</span> = <span style=\"color: #0000ff; text-decoration-color: #0000ff\">None</span>                                             <span style=\"color: #ff0000; text-decoration-color: #ff0000\">│</span>\n",
       "<span style=\"color: #ff0000; text-decoration-color: #ff0000\">│</span> <span style=\"color: #800000; text-decoration-color: #800000\">❱ </span>1620 <span style=\"color: #7f7f7f; text-decoration-color: #7f7f7f\">│   │   </span><span style=\"color: #00ffff; text-decoration-color: #00ffff\">self</span>._engine = <span style=\"color: #00ffff; text-decoration-color: #00ffff; font-weight: bold; text-decoration: underline\">self</span><span style=\"font-weight: bold; text-decoration: underline\">._make_engine(f, </span><span style=\"color: #00ffff; text-decoration-color: #00ffff; font-weight: bold; text-decoration: underline\">self</span><span style=\"font-weight: bold; text-decoration: underline\">.engine)</span>                                  <span style=\"color: #ff0000; text-decoration-color: #ff0000\">│</span>\n",
       "<span style=\"color: #ff0000; text-decoration-color: #ff0000\">│</span>   <span style=\"color: #7f7f7f; text-decoration-color: #7f7f7f\">1621 </span><span style=\"color: #7f7f7f; text-decoration-color: #7f7f7f\">│   </span>                                                                                      <span style=\"color: #ff0000; text-decoration-color: #ff0000\">│</span>\n",
       "<span style=\"color: #ff0000; text-decoration-color: #ff0000\">│</span>   <span style=\"color: #7f7f7f; text-decoration-color: #7f7f7f\">1622 </span><span style=\"color: #7f7f7f; text-decoration-color: #7f7f7f\">│   </span><span style=\"color: #0000ff; text-decoration-color: #0000ff\">def</span><span style=\"color: #808080; text-decoration-color: #808080\"> </span><span style=\"color: #00ff00; text-decoration-color: #00ff00\">close</span>(<span style=\"color: #00ffff; text-decoration-color: #00ffff\">self</span>) -&gt; <span style=\"color: #0000ff; text-decoration-color: #0000ff\">None</span>:                                                              <span style=\"color: #ff0000; text-decoration-color: #ff0000\">│</span>\n",
       "<span style=\"color: #ff0000; text-decoration-color: #ff0000\">│</span>   <span style=\"color: #7f7f7f; text-decoration-color: #7f7f7f\">1623 </span><span style=\"color: #7f7f7f; text-decoration-color: #7f7f7f\">│   │   </span><span style=\"color: #0000ff; text-decoration-color: #0000ff\">if</span> <span style=\"color: #00ffff; text-decoration-color: #00ffff\">self</span>.handles <span style=\"color: #ff00ff; text-decoration-color: #ff00ff\">is</span> <span style=\"color: #ff00ff; text-decoration-color: #ff00ff\">not</span> <span style=\"color: #0000ff; text-decoration-color: #0000ff\">None</span>:                                                      <span style=\"color: #ff0000; text-decoration-color: #ff0000\">│</span>\n",
       "<span style=\"color: #ff0000; text-decoration-color: #ff0000\">│</span>                                                                                                  <span style=\"color: #ff0000; text-decoration-color: #ff0000\">│</span>\n",
       "<span style=\"color: #ff0000; text-decoration-color: #ff0000\">│</span> <span style=\"color: #bfbf7f; text-decoration-color: #bfbf7f\">/opt/conda/lib/python3.11/site-packages/pandas/io/parsers/</span><span style=\"color: #808000; text-decoration-color: #808000; font-weight: bold\">readers.py</span>:<span style=\"color: #0000ff; text-decoration-color: #0000ff\">1880</span> in <span style=\"color: #00ff00; text-decoration-color: #00ff00\">_make_engine</span>        <span style=\"color: #ff0000; text-decoration-color: #ff0000\">│</span>\n",
       "<span style=\"color: #ff0000; text-decoration-color: #ff0000\">│</span>                                                                                                  <span style=\"color: #ff0000; text-decoration-color: #ff0000\">│</span>\n",
       "<span style=\"color: #ff0000; text-decoration-color: #ff0000\">│</span>   <span style=\"color: #7f7f7f; text-decoration-color: #7f7f7f\">1877 </span><span style=\"color: #7f7f7f; text-decoration-color: #7f7f7f\">│   │   │   │   </span>is_text = <span style=\"color: #0000ff; text-decoration-color: #0000ff\">False</span>                                                           <span style=\"color: #ff0000; text-decoration-color: #ff0000\">│</span>\n",
       "<span style=\"color: #ff0000; text-decoration-color: #ff0000\">│</span>   <span style=\"color: #7f7f7f; text-decoration-color: #7f7f7f\">1878 </span><span style=\"color: #7f7f7f; text-decoration-color: #7f7f7f\">│   │   │   │   </span><span style=\"color: #0000ff; text-decoration-color: #0000ff\">if</span> <span style=\"color: #808000; text-decoration-color: #808000\">\"b\"</span> <span style=\"color: #ff00ff; text-decoration-color: #ff00ff\">not</span> <span style=\"color: #ff00ff; text-decoration-color: #ff00ff\">in</span> mode:                                                       <span style=\"color: #ff0000; text-decoration-color: #ff0000\">│</span>\n",
       "<span style=\"color: #ff0000; text-decoration-color: #ff0000\">│</span>   <span style=\"color: #7f7f7f; text-decoration-color: #7f7f7f\">1879 </span><span style=\"color: #7f7f7f; text-decoration-color: #7f7f7f\">│   │   │   │   │   </span>mode += <span style=\"color: #808000; text-decoration-color: #808000\">\"b\"</span>                                                           <span style=\"color: #ff0000; text-decoration-color: #ff0000\">│</span>\n",
       "<span style=\"color: #ff0000; text-decoration-color: #ff0000\">│</span> <span style=\"color: #800000; text-decoration-color: #800000\">❱ </span>1880 <span style=\"color: #7f7f7f; text-decoration-color: #7f7f7f\">│   │   │   </span><span style=\"color: #00ffff; text-decoration-color: #00ffff\">self</span>.handles = get_handle(                                                    <span style=\"color: #ff0000; text-decoration-color: #ff0000\">│</span>\n",
       "<span style=\"color: #ff0000; text-decoration-color: #ff0000\">│</span>   <span style=\"color: #7f7f7f; text-decoration-color: #7f7f7f\">1881 </span><span style=\"color: #7f7f7f; text-decoration-color: #7f7f7f\">│   │   │   │   </span>f,                                                                        <span style=\"color: #ff0000; text-decoration-color: #ff0000\">│</span>\n",
       "<span style=\"color: #ff0000; text-decoration-color: #ff0000\">│</span>   <span style=\"color: #7f7f7f; text-decoration-color: #7f7f7f\">1882 </span><span style=\"color: #7f7f7f; text-decoration-color: #7f7f7f\">│   │   │   │   </span>mode,                                                                     <span style=\"color: #ff0000; text-decoration-color: #ff0000\">│</span>\n",
       "<span style=\"color: #ff0000; text-decoration-color: #ff0000\">│</span>   <span style=\"color: #7f7f7f; text-decoration-color: #7f7f7f\">1883 </span><span style=\"color: #7f7f7f; text-decoration-color: #7f7f7f\">│   │   │   │   </span>encoding=<span style=\"color: #00ffff; text-decoration-color: #00ffff\">self</span>.options.get(<span style=\"color: #808000; text-decoration-color: #808000\">\"encoding\"</span>, <span style=\"color: #0000ff; text-decoration-color: #0000ff\">None</span>),                              <span style=\"color: #ff0000; text-decoration-color: #ff0000\">│</span>\n",
       "<span style=\"color: #ff0000; text-decoration-color: #ff0000\">│</span>                                                                                                  <span style=\"color: #ff0000; text-decoration-color: #ff0000\">│</span>\n",
       "<span style=\"color: #ff0000; text-decoration-color: #ff0000\">│</span> <span style=\"color: #bfbf7f; text-decoration-color: #bfbf7f\">/opt/conda/lib/python3.11/site-packages/pandas/io/</span><span style=\"color: #808000; text-decoration-color: #808000; font-weight: bold\">common.py</span>:<span style=\"color: #0000ff; text-decoration-color: #0000ff\">873</span> in <span style=\"color: #00ff00; text-decoration-color: #00ff00\">get_handle</span>                    <span style=\"color: #ff0000; text-decoration-color: #ff0000\">│</span>\n",
       "<span style=\"color: #ff0000; text-decoration-color: #ff0000\">│</span>                                                                                                  <span style=\"color: #ff0000; text-decoration-color: #ff0000\">│</span>\n",
       "<span style=\"color: #ff0000; text-decoration-color: #ff0000\">│</span>   <span style=\"color: #7f7f7f; text-decoration-color: #7f7f7f\"> 870 </span><span style=\"color: #7f7f7f; text-decoration-color: #7f7f7f\">│   │   </span><span style=\"color: #7f7f7f; text-decoration-color: #7f7f7f\"># Binary mode does not support 'encoding' and 'newline'.</span>                          <span style=\"color: #ff0000; text-decoration-color: #ff0000\">│</span>\n",
       "<span style=\"color: #ff0000; text-decoration-color: #ff0000\">│</span>   <span style=\"color: #7f7f7f; text-decoration-color: #7f7f7f\"> 871 </span><span style=\"color: #7f7f7f; text-decoration-color: #7f7f7f\">│   │   </span><span style=\"color: #0000ff; text-decoration-color: #0000ff\">if</span> ioargs.encoding <span style=\"color: #ff00ff; text-decoration-color: #ff00ff\">and</span> <span style=\"color: #808000; text-decoration-color: #808000\">\"b\"</span> <span style=\"color: #ff00ff; text-decoration-color: #ff00ff\">not</span> <span style=\"color: #ff00ff; text-decoration-color: #ff00ff\">in</span> ioargs.mode:                                    <span style=\"color: #ff0000; text-decoration-color: #ff0000\">│</span>\n",
       "<span style=\"color: #ff0000; text-decoration-color: #ff0000\">│</span>   <span style=\"color: #7f7f7f; text-decoration-color: #7f7f7f\"> 872 </span><span style=\"color: #7f7f7f; text-decoration-color: #7f7f7f\">│   │   │   </span><span style=\"color: #7f7f7f; text-decoration-color: #7f7f7f\"># Encoding</span>                                                                    <span style=\"color: #ff0000; text-decoration-color: #ff0000\">│</span>\n",
       "<span style=\"color: #ff0000; text-decoration-color: #ff0000\">│</span> <span style=\"color: #800000; text-decoration-color: #800000\">❱ </span> 873 <span style=\"color: #7f7f7f; text-decoration-color: #7f7f7f\">│   │   │   </span>handle = <span style=\"color: #00ffff; text-decoration-color: #00ffff\">open</span>(                                                                <span style=\"color: #ff0000; text-decoration-color: #ff0000\">│</span>\n",
       "<span style=\"color: #ff0000; text-decoration-color: #ff0000\">│</span>   <span style=\"color: #7f7f7f; text-decoration-color: #7f7f7f\"> 874 </span><span style=\"color: #7f7f7f; text-decoration-color: #7f7f7f\">│   │   │   │   </span>handle,                                                                   <span style=\"color: #ff0000; text-decoration-color: #ff0000\">│</span>\n",
       "<span style=\"color: #ff0000; text-decoration-color: #ff0000\">│</span>   <span style=\"color: #7f7f7f; text-decoration-color: #7f7f7f\"> 875 </span><span style=\"color: #7f7f7f; text-decoration-color: #7f7f7f\">│   │   │   │   </span>ioargs.mode,                                                              <span style=\"color: #ff0000; text-decoration-color: #ff0000\">│</span>\n",
       "<span style=\"color: #ff0000; text-decoration-color: #ff0000\">│</span>   <span style=\"color: #7f7f7f; text-decoration-color: #7f7f7f\"> 876 </span><span style=\"color: #7f7f7f; text-decoration-color: #7f7f7f\">│   │   │   │   </span>encoding=ioargs.encoding,                                                 <span style=\"color: #ff0000; text-decoration-color: #ff0000\">│</span>\n",
       "<span style=\"color: #ff0000; text-decoration-color: #ff0000\">╰──────────────────────────────────────────────────────────────────────────────────────────────────╯</span>\n",
       "<span style=\"color: #ff0000; text-decoration-color: #ff0000; font-weight: bold\">FileNotFoundError: </span><span style=\"font-weight: bold\">[</span>Errno <span style=\"color: #008080; text-decoration-color: #008080; font-weight: bold\">2</span><span style=\"font-weight: bold\">]</span> No such file or directory: <span style=\"color: #008700; text-decoration-color: #008700\">'feature_store_introduction_customer_updated.csv'</span>\n",
       "</pre>\n"
      ],
      "text/plain": [
       "\u001b[38;2;255;0;0m╭─\u001b[0m\u001b[38;2;255;0;0m──────────────────────────────\u001b[0m\u001b[38;2;255;0;0m \u001b[0m\u001b[1;38;2;255;0;0mTraceback \u001b[0m\u001b[1;2;38;2;255;0;0m(most recent call last)\u001b[0m\u001b[38;2;255;0;0m \u001b[0m\u001b[38;2;255;0;0m───────────────────────────────\u001b[0m\u001b[38;2;255;0;0m─╮\u001b[0m\n",
       "\u001b[38;2;255;0;0m│\u001b[0m in \u001b[92m<module>\u001b[0m:\u001b[94m1\u001b[0m                                                                                    \u001b[38;2;255;0;0m│\u001b[0m\n",
       "\u001b[38;2;255;0;0m│\u001b[0m                                                                                                  \u001b[38;2;255;0;0m│\u001b[0m\n",
       "\u001b[38;2;255;0;0m│\u001b[0m \u001b[31m❱ \u001b[0m1 customer_data_updated = \u001b[1;4mpd.read_csv(\u001b[0m\u001b[1;4;33m\"\u001b[0m\u001b[1;4;33mfeature_store_introduction_customer_updated.csv\u001b[0m\u001b[1;4;33m\"\u001b[0m\u001b[1;4m)\u001b[0m       \u001b[38;2;255;0;0m│\u001b[0m\n",
       "\u001b[38;2;255;0;0m│\u001b[0m   \u001b[2m2 \u001b[0m                                                                                             \u001b[38;2;255;0;0m│\u001b[0m\n",
       "\u001b[38;2;255;0;0m│\u001b[0m                                                                                                  \u001b[38;2;255;0;0m│\u001b[0m\n",
       "\u001b[38;2;255;0;0m│\u001b[0m \u001b[2;33m/opt/conda/lib/python3.11/site-packages/pandas/io/parsers/\u001b[0m\u001b[1;33mreaders.py\u001b[0m:\u001b[94m1026\u001b[0m in \u001b[92mread_csv\u001b[0m            \u001b[38;2;255;0;0m│\u001b[0m\n",
       "\u001b[38;2;255;0;0m│\u001b[0m                                                                                                  \u001b[38;2;255;0;0m│\u001b[0m\n",
       "\u001b[38;2;255;0;0m│\u001b[0m   \u001b[2m1023 \u001b[0m\u001b[2m│   \u001b[0m)                                                                                     \u001b[38;2;255;0;0m│\u001b[0m\n",
       "\u001b[38;2;255;0;0m│\u001b[0m   \u001b[2m1024 \u001b[0m\u001b[2m│   \u001b[0mkwds.update(kwds_defaults)                                                            \u001b[38;2;255;0;0m│\u001b[0m\n",
       "\u001b[38;2;255;0;0m│\u001b[0m   \u001b[2m1025 \u001b[0m\u001b[2m│   \u001b[0m                                                                                      \u001b[38;2;255;0;0m│\u001b[0m\n",
       "\u001b[38;2;255;0;0m│\u001b[0m \u001b[31m❱ \u001b[0m1026 \u001b[2m│   \u001b[0m\u001b[94mreturn\u001b[0m \u001b[1;4m_read(filepath_or_buffer, kwds)\u001b[0m                                                \u001b[38;2;255;0;0m│\u001b[0m\n",
       "\u001b[38;2;255;0;0m│\u001b[0m   \u001b[2m1027 \u001b[0m                                                                                          \u001b[38;2;255;0;0m│\u001b[0m\n",
       "\u001b[38;2;255;0;0m│\u001b[0m   \u001b[2m1028 \u001b[0m                                                                                          \u001b[38;2;255;0;0m│\u001b[0m\n",
       "\u001b[38;2;255;0;0m│\u001b[0m   \u001b[2m1029 \u001b[0m\u001b[2m# iterator=True -> TextFileReader\u001b[0m                                                         \u001b[38;2;255;0;0m│\u001b[0m\n",
       "\u001b[38;2;255;0;0m│\u001b[0m                                                                                                  \u001b[38;2;255;0;0m│\u001b[0m\n",
       "\u001b[38;2;255;0;0m│\u001b[0m \u001b[2;33m/opt/conda/lib/python3.11/site-packages/pandas/io/parsers/\u001b[0m\u001b[1;33mreaders.py\u001b[0m:\u001b[94m620\u001b[0m in \u001b[92m_read\u001b[0m                \u001b[38;2;255;0;0m│\u001b[0m\n",
       "\u001b[38;2;255;0;0m│\u001b[0m                                                                                                  \u001b[38;2;255;0;0m│\u001b[0m\n",
       "\u001b[38;2;255;0;0m│\u001b[0m   \u001b[2m 617 \u001b[0m\u001b[2m│   \u001b[0m_validate_names(kwds.get(\u001b[33m\"\u001b[0m\u001b[33mnames\u001b[0m\u001b[33m\"\u001b[0m, \u001b[94mNone\u001b[0m))                                              \u001b[38;2;255;0;0m│\u001b[0m\n",
       "\u001b[38;2;255;0;0m│\u001b[0m   \u001b[2m 618 \u001b[0m\u001b[2m│   \u001b[0m                                                                                      \u001b[38;2;255;0;0m│\u001b[0m\n",
       "\u001b[38;2;255;0;0m│\u001b[0m   \u001b[2m 619 \u001b[0m\u001b[2m│   \u001b[0m\u001b[2m# Create the parser.\u001b[0m                                                                  \u001b[38;2;255;0;0m│\u001b[0m\n",
       "\u001b[38;2;255;0;0m│\u001b[0m \u001b[31m❱ \u001b[0m 620 \u001b[2m│   \u001b[0mparser = \u001b[1;4mTextFileReader(filepath_or_buffer, **kwds)\u001b[0m                                   \u001b[38;2;255;0;0m│\u001b[0m\n",
       "\u001b[38;2;255;0;0m│\u001b[0m   \u001b[2m 621 \u001b[0m\u001b[2m│   \u001b[0m                                                                                      \u001b[38;2;255;0;0m│\u001b[0m\n",
       "\u001b[38;2;255;0;0m│\u001b[0m   \u001b[2m 622 \u001b[0m\u001b[2m│   \u001b[0m\u001b[94mif\u001b[0m chunksize \u001b[95mor\u001b[0m iterator:                                                             \u001b[38;2;255;0;0m│\u001b[0m\n",
       "\u001b[38;2;255;0;0m│\u001b[0m   \u001b[2m 623 \u001b[0m\u001b[2m│   │   \u001b[0m\u001b[94mreturn\u001b[0m parser                                                                     \u001b[38;2;255;0;0m│\u001b[0m\n",
       "\u001b[38;2;255;0;0m│\u001b[0m                                                                                                  \u001b[38;2;255;0;0m│\u001b[0m\n",
       "\u001b[38;2;255;0;0m│\u001b[0m \u001b[2;33m/opt/conda/lib/python3.11/site-packages/pandas/io/parsers/\u001b[0m\u001b[1;33mreaders.py\u001b[0m:\u001b[94m1620\u001b[0m in \u001b[92m__init__\u001b[0m            \u001b[38;2;255;0;0m│\u001b[0m\n",
       "\u001b[38;2;255;0;0m│\u001b[0m                                                                                                  \u001b[38;2;255;0;0m│\u001b[0m\n",
       "\u001b[38;2;255;0;0m│\u001b[0m   \u001b[2m1617 \u001b[0m\u001b[2m│   │   │   \u001b[0m\u001b[96mself\u001b[0m.options[\u001b[33m\"\u001b[0m\u001b[33mhas_index_names\u001b[0m\u001b[33m\"\u001b[0m] = kwds[\u001b[33m\"\u001b[0m\u001b[33mhas_index_names\u001b[0m\u001b[33m\"\u001b[0m]                     \u001b[38;2;255;0;0m│\u001b[0m\n",
       "\u001b[38;2;255;0;0m│\u001b[0m   \u001b[2m1618 \u001b[0m\u001b[2m│   │   \u001b[0m                                                                                  \u001b[38;2;255;0;0m│\u001b[0m\n",
       "\u001b[38;2;255;0;0m│\u001b[0m   \u001b[2m1619 \u001b[0m\u001b[2m│   │   \u001b[0m\u001b[96mself\u001b[0m.handles: IOHandles | \u001b[94mNone\u001b[0m = \u001b[94mNone\u001b[0m                                             \u001b[38;2;255;0;0m│\u001b[0m\n",
       "\u001b[38;2;255;0;0m│\u001b[0m \u001b[31m❱ \u001b[0m1620 \u001b[2m│   │   \u001b[0m\u001b[96mself\u001b[0m._engine = \u001b[1;4;96mself\u001b[0m\u001b[1;4m._make_engine(f, \u001b[0m\u001b[1;4;96mself\u001b[0m\u001b[1;4m.engine)\u001b[0m                                  \u001b[38;2;255;0;0m│\u001b[0m\n",
       "\u001b[38;2;255;0;0m│\u001b[0m   \u001b[2m1621 \u001b[0m\u001b[2m│   \u001b[0m                                                                                      \u001b[38;2;255;0;0m│\u001b[0m\n",
       "\u001b[38;2;255;0;0m│\u001b[0m   \u001b[2m1622 \u001b[0m\u001b[2m│   \u001b[0m\u001b[94mdef\u001b[0m\u001b[90m \u001b[0m\u001b[92mclose\u001b[0m(\u001b[96mself\u001b[0m) -> \u001b[94mNone\u001b[0m:                                                              \u001b[38;2;255;0;0m│\u001b[0m\n",
       "\u001b[38;2;255;0;0m│\u001b[0m   \u001b[2m1623 \u001b[0m\u001b[2m│   │   \u001b[0m\u001b[94mif\u001b[0m \u001b[96mself\u001b[0m.handles \u001b[95mis\u001b[0m \u001b[95mnot\u001b[0m \u001b[94mNone\u001b[0m:                                                      \u001b[38;2;255;0;0m│\u001b[0m\n",
       "\u001b[38;2;255;0;0m│\u001b[0m                                                                                                  \u001b[38;2;255;0;0m│\u001b[0m\n",
       "\u001b[38;2;255;0;0m│\u001b[0m \u001b[2;33m/opt/conda/lib/python3.11/site-packages/pandas/io/parsers/\u001b[0m\u001b[1;33mreaders.py\u001b[0m:\u001b[94m1880\u001b[0m in \u001b[92m_make_engine\u001b[0m        \u001b[38;2;255;0;0m│\u001b[0m\n",
       "\u001b[38;2;255;0;0m│\u001b[0m                                                                                                  \u001b[38;2;255;0;0m│\u001b[0m\n",
       "\u001b[38;2;255;0;0m│\u001b[0m   \u001b[2m1877 \u001b[0m\u001b[2m│   │   │   │   \u001b[0mis_text = \u001b[94mFalse\u001b[0m                                                           \u001b[38;2;255;0;0m│\u001b[0m\n",
       "\u001b[38;2;255;0;0m│\u001b[0m   \u001b[2m1878 \u001b[0m\u001b[2m│   │   │   │   \u001b[0m\u001b[94mif\u001b[0m \u001b[33m\"\u001b[0m\u001b[33mb\u001b[0m\u001b[33m\"\u001b[0m \u001b[95mnot\u001b[0m \u001b[95min\u001b[0m mode:                                                       \u001b[38;2;255;0;0m│\u001b[0m\n",
       "\u001b[38;2;255;0;0m│\u001b[0m   \u001b[2m1879 \u001b[0m\u001b[2m│   │   │   │   │   \u001b[0mmode += \u001b[33m\"\u001b[0m\u001b[33mb\u001b[0m\u001b[33m\"\u001b[0m                                                           \u001b[38;2;255;0;0m│\u001b[0m\n",
       "\u001b[38;2;255;0;0m│\u001b[0m \u001b[31m❱ \u001b[0m1880 \u001b[2m│   │   │   \u001b[0m\u001b[96mself\u001b[0m.handles = get_handle(                                                    \u001b[38;2;255;0;0m│\u001b[0m\n",
       "\u001b[38;2;255;0;0m│\u001b[0m   \u001b[2m1881 \u001b[0m\u001b[2m│   │   │   │   \u001b[0mf,                                                                        \u001b[38;2;255;0;0m│\u001b[0m\n",
       "\u001b[38;2;255;0;0m│\u001b[0m   \u001b[2m1882 \u001b[0m\u001b[2m│   │   │   │   \u001b[0mmode,                                                                     \u001b[38;2;255;0;0m│\u001b[0m\n",
       "\u001b[38;2;255;0;0m│\u001b[0m   \u001b[2m1883 \u001b[0m\u001b[2m│   │   │   │   \u001b[0mencoding=\u001b[96mself\u001b[0m.options.get(\u001b[33m\"\u001b[0m\u001b[33mencoding\u001b[0m\u001b[33m\"\u001b[0m, \u001b[94mNone\u001b[0m),                              \u001b[38;2;255;0;0m│\u001b[0m\n",
       "\u001b[38;2;255;0;0m│\u001b[0m                                                                                                  \u001b[38;2;255;0;0m│\u001b[0m\n",
       "\u001b[38;2;255;0;0m│\u001b[0m \u001b[2;33m/opt/conda/lib/python3.11/site-packages/pandas/io/\u001b[0m\u001b[1;33mcommon.py\u001b[0m:\u001b[94m873\u001b[0m in \u001b[92mget_handle\u001b[0m                    \u001b[38;2;255;0;0m│\u001b[0m\n",
       "\u001b[38;2;255;0;0m│\u001b[0m                                                                                                  \u001b[38;2;255;0;0m│\u001b[0m\n",
       "\u001b[38;2;255;0;0m│\u001b[0m   \u001b[2m 870 \u001b[0m\u001b[2m│   │   \u001b[0m\u001b[2m# Binary mode does not support 'encoding' and 'newline'.\u001b[0m                          \u001b[38;2;255;0;0m│\u001b[0m\n",
       "\u001b[38;2;255;0;0m│\u001b[0m   \u001b[2m 871 \u001b[0m\u001b[2m│   │   \u001b[0m\u001b[94mif\u001b[0m ioargs.encoding \u001b[95mand\u001b[0m \u001b[33m\"\u001b[0m\u001b[33mb\u001b[0m\u001b[33m\"\u001b[0m \u001b[95mnot\u001b[0m \u001b[95min\u001b[0m ioargs.mode:                                    \u001b[38;2;255;0;0m│\u001b[0m\n",
       "\u001b[38;2;255;0;0m│\u001b[0m   \u001b[2m 872 \u001b[0m\u001b[2m│   │   │   \u001b[0m\u001b[2m# Encoding\u001b[0m                                                                    \u001b[38;2;255;0;0m│\u001b[0m\n",
       "\u001b[38;2;255;0;0m│\u001b[0m \u001b[31m❱ \u001b[0m 873 \u001b[2m│   │   │   \u001b[0mhandle = \u001b[96mopen\u001b[0m(                                                                \u001b[38;2;255;0;0m│\u001b[0m\n",
       "\u001b[38;2;255;0;0m│\u001b[0m   \u001b[2m 874 \u001b[0m\u001b[2m│   │   │   │   \u001b[0mhandle,                                                                   \u001b[38;2;255;0;0m│\u001b[0m\n",
       "\u001b[38;2;255;0;0m│\u001b[0m   \u001b[2m 875 \u001b[0m\u001b[2m│   │   │   │   \u001b[0mioargs.mode,                                                              \u001b[38;2;255;0;0m│\u001b[0m\n",
       "\u001b[38;2;255;0;0m│\u001b[0m   \u001b[2m 876 \u001b[0m\u001b[2m│   │   │   │   \u001b[0mencoding=ioargs.encoding,                                                 \u001b[38;2;255;0;0m│\u001b[0m\n",
       "\u001b[38;2;255;0;0m╰──────────────────────────────────────────────────────────────────────────────────────────────────╯\u001b[0m\n",
       "\u001b[1;91mFileNotFoundError: \u001b[0m\u001b[1m[\u001b[0mErrno \u001b[1;36m2\u001b[0m\u001b[1m]\u001b[0m No such file or directory: \u001b[38;2;0;135;0m'feature_store_introduction_customer_updated.csv'\u001b[0m\n"
      ]
     },
     "metadata": {},
     "output_type": "display_data"
    }
   ],
   "source": [
    "customer_data_updated = pd.read_csv(\"feature_store_introduction_customer_updated.csv\")"
   ]
  },
  {
   "cell_type": "code",
   "execution_count": 102,
   "metadata": {},
   "outputs": [
    {
     "data": {
      "text/html": [
       "<div>\n",
       "<style scoped>\n",
       "    .dataframe tbody tr th:only-of-type {\n",
       "        vertical-align: middle;\n",
       "    }\n",
       "\n",
       "    .dataframe tbody tr th {\n",
       "        vertical-align: top;\n",
       "    }\n",
       "\n",
       "    .dataframe thead th {\n",
       "        text-align: right;\n",
       "    }\n",
       "</style>\n",
       "<table border=\"1\" class=\"dataframe\">\n",
       "  <thead>\n",
       "    <tr style=\"text-align: right;\">\n",
       "      <th></th>\n",
       "      <th>customer_id</th>\n",
       "      <th>city_code</th>\n",
       "      <th>state_code</th>\n",
       "      <th>country_code</th>\n",
       "    </tr>\n",
       "  </thead>\n",
       "  <tbody>\n",
       "    <tr>\n",
       "      <th>0</th>\n",
       "      <td>573291</td>\n",
       "      <td>1</td>\n",
       "      <td>49</td>\n",
       "      <td>2</td>\n",
       "    </tr>\n",
       "    <tr>\n",
       "      <th>1</th>\n",
       "      <td>109382</td>\n",
       "      <td>2</td>\n",
       "      <td>40</td>\n",
       "      <td>2</td>\n",
       "    </tr>\n",
       "    <tr>\n",
       "      <th>2</th>\n",
       "      <td>828400</td>\n",
       "      <td>3</td>\n",
       "      <td>31</td>\n",
       "      <td>2</td>\n",
       "    </tr>\n",
       "    <tr>\n",
       "      <th>3</th>\n",
       "      <td>124013</td>\n",
       "      <td>4</td>\n",
       "      <td>5</td>\n",
       "      <td>2</td>\n",
       "    </tr>\n",
       "  </tbody>\n",
       "</table>\n",
       "</div>"
      ],
      "text/plain": [
       "   customer_id  city_code  state_code  country_code\n",
       "0       573291          1          49             2\n",
       "1       109382          2          40             2\n",
       "2       828400          3          31             2\n",
       "3       124013          4           5             2"
      ]
     },
     "execution_count": 102,
     "metadata": {},
     "output_type": "execute_result"
    }
   ],
   "source": [
    "customer_data_updated.head()"
   ]
  },
  {
   "cell_type": "markdown",
   "metadata": {},
   "source": [
    "Append `EventTime` feature to your data frame again."
   ]
  },
  {
   "cell_type": "code",
   "execution_count": 103,
   "metadata": {},
   "outputs": [],
   "source": [
    "customer_data_updated[\"EventTime\"] = pd.Series(\n",
    "    [current_time_sec] * len(customer_data), dtype=\"float64\"\n",
    ")"
   ]
  },
  {
   "cell_type": "markdown",
   "metadata": {},
   "source": [
    "Ingest the new dataset."
   ]
  },
  {
   "cell_type": "code",
   "execution_count": null,
   "metadata": {},
   "outputs": [],
   "source": [
    "## need to see how to ingest data in new SDK\n",
    "IngestData(customer_data_updated, customers_feature_group)"
   ]
  },
  {
   "cell_type": "markdown",
   "metadata": {},
   "source": [
    "Use `batch_get_record` again to check that all updated data has been ingested into `customers_feature_group` by providing customer IDs."
   ]
  },
  {
   "cell_type": "code",
   "execution_count": null,
   "metadata": {},
   "outputs": [],
   "source": [
    "updated_records_customers = customers_feature_group.batch_get_record(\n",
    "    identifiers=[\n",
    "        BatchGetRecordIdentifier(\n",
    "            feature_group_name=customers_feature_group_name,\n",
    "            record_identifiers_value_as_string=[\"573291\", \"109382\", \"828400\", \"124013\"],\n",
    "        )\n",
    "    ]\n",
    ")"
   ]
  },
  {
   "cell_type": "code",
   "execution_count": null,
   "metadata": {},
   "outputs": [],
   "source": [
    "updated_records_customers"
   ]
  },
  {
   "cell_type": "markdown",
   "metadata": {},
   "source": [
    "### Clean up\n",
    "Here we remove the Feature Groups we created. "
   ]
  },
  {
   "cell_type": "code",
   "execution_count": null,
   "metadata": {},
   "outputs": [],
   "source": [
    "customers_feature_group.delete()\n",
    "orders_feature_group.delete()"
   ]
  },
  {
   "cell_type": "code",
   "execution_count": null,
   "metadata": {},
   "outputs": [],
   "source": []
  }
 ],
 "metadata": {
  "instance_type": "ml.t3.medium",
  "kernelspec": {
   "display_name": "Python 3 (ipykernel)",
   "language": "python",
   "name": "python3"
  },
  "language_info": {
   "codemirror_mode": {
    "name": "ipython",
    "version": 3
   },
   "file_extension": ".py",
   "mimetype": "text/x-python",
   "name": "python",
   "nbconvert_exporter": "python",
   "pygments_lexer": "ipython3",
   "version": "3.11.11"
  }
 },
 "nbformat": 4,
 "nbformat_minor": 4
}
