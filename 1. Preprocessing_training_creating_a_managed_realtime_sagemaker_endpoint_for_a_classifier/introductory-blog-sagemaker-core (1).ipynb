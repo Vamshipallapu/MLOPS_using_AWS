{
 "cells": [
  {
   "cell_type": "markdown",
   "id": "b02083d2-55a3-41e6-aed5-8ff633af6a59",
   "metadata": {},
   "source": [
    "## Get started with SageMaker\n",
    "\n",
    "This notebok is part of [Introductory blog on SageMaker Core](https://aws.amazon.com/blogs/machine-learning/introducing-sagemaker-core-a-new-object-oriented-python-sdk-for-amazon-sagemaker/).\n",
    "\n",
    "In this notebook you'll learn how SageMaker can be used to:\n",
    "\n",
    "1. Preprocess (and optionally explore) a dataset\n",
    "2. Train an XGBoost classifier for customer churn prediction, using a managed job with SageMaker Training, using a managed image.\n",
    "3. Create a managed real-time SageMaker endpoint.\n",
    "\n",
    "All SageMaker resources are created using the SageMaker Core SDK. You can find more information about sagemaker-core [here](https://sagemaker-core.readthedocs.io/en/latest/)"
   ]
  },
  {
   "cell_type": "code",
   "execution_count": 33,
   "id": "0489c209-9628-4ddf-a849-8b973234126a",
   "metadata": {},
   "outputs": [
    {
     "name": "stdout",
     "output_type": "stream",
     "text": [
      "Note: you may need to restart the kernel to use updated packages.\n",
      "Note: you may need to restart the kernel to use updated packages.\n"
     ]
    }
   ],
   "source": [
    "%pip install --upgrade pip -q\n",
    "%pip install sagemaker-core -q"
   ]
  },
  {
   "cell_type": "code",
   "execution_count": 34,
   "id": "683f28ed-6c66-48c2-a24a-378764271f7e",
   "metadata": {},
   "outputs": [],
   "source": [
    "import time\n",
    "import io\n",
    "from datetime import datetime\n",
    "import pandas as pd\n",
    "from sagemaker_core.helper.session_helper import Session, get_execution_role\n",
    "from io import StringIO\n",
    "import pandas as pd\n",
    "from sagemaker_core.main.shapes import (\n",
    "    ProcessingInput,\n",
    "    ProcessingResources,\n",
    "    AppSpecification,\n",
    "    ProcessingS3Input,\n",
    "    ProcessingOutputConfig\n",
    ")\n",
    "from sagemaker_core.shapes import (\n",
    "    ProcessingResources,\n",
    "    ProcessingClusterConfig,\n",
    "    ProcessingOutput,\n",
    "    ProcessingS3Output,\n",
    ")\n",
    "\n",
    "from sagemaker_core.resources import ProcessingJob"
   ]
  },
  {
   "cell_type": "code",
   "execution_count": 35,
   "id": "314d959f-8c4a-4996-b167-24958d53417a",
   "metadata": {},
   "outputs": [
    {
     "name": "stdout",
     "output_type": "stream",
     "text": [
      "AWS region: us-east-1\n",
      "Execution role: arn:aws:iam::590184044598:role/service-role/SageMaker-ExecutionRole-20250115T132367\n",
      "Default S3 bucket: sagemaker-us-east-1-590184044598\n"
     ]
    }
   ],
   "source": [
    "# Set up region, role and bucket parameters used throughout the notebook.\n",
    "sagemaker_session = Session()\n",
    "region = sagemaker_session.boto_region_name\n",
    "role = get_execution_role()\n",
    "bucket = sagemaker_session.default_bucket()\n",
    "s3_client = sagemaker_session.boto_session.client('s3')\n",
    "\n",
    "print(f\"AWS region: {region}\")\n",
    "print(f\"Execution role: {role}\")\n",
    "print(f\"Default S3 bucket: {bucket}\")"
   ]
  },
  {
   "cell_type": "markdown",
   "id": "93b62649-4d89-4b6e-9f18-a48aa0bb27a4",
   "metadata": {},
   "source": [
    "## Preprocess dataset\n",
    "We'll use a synthetic dataset that AWS provides for customer churn prediction.\n"
   ]
  },
  {
   "cell_type": "markdown",
   "id": "f347ca27-68a3-41a1-998c-434d39f8245a",
   "metadata": {},
   "source": [
    "<div class=\"alert alert-block alert-info\">\n",
    "<b>NOTE:</b> This sample doesn't perform any exploratory data anlysis since how to preprocess the dataset is already known.\n",
    "    \n",
    "If you're interested in how to perform exploratory analysis, there's a section in the documentation for the sagemaker-python-sdk available that explores the dataset, [here](https://sagemaker-examples.readthedocs.io/en/latest/introduction_to_applying_machine_learning/xgboost_customer_churn/xgboost_customer_churn.html).\n",
    "</div>"
   ]
  },
  {
   "cell_type": "markdown",
   "id": "38f74911-14c9-4ef8-bd18-db9664de7dcf",
   "metadata": {},
   "source": [
    "## Upload the processing code to S3\n",
    "\n",
    "The pre-processing code is already available in the current directory with the name `preprocess.py`. Have a look at the code to understand the processing logic."
   ]
  },
  {
   "cell_type": "code",
   "execution_count": 36,
   "id": "ed040f38-1e1b-4310-b5a6-2f49421952d9",
   "metadata": {
    "tags": []
   },
   "outputs": [
    {
     "data": {
      "text/plain": [
       "'s3://sagemaker-us-east-1-590184044598/sagemaker-core-intro-blog/processing/code/preprocess.py'"
      ]
     },
     "execution_count": 36,
     "metadata": {},
     "output_type": "execute_result"
    }
   ],
   "source": [
    "pre_processing_code_s3_uri = sagemaker_session.upload_data(\"preprocess.py\", key_prefix=\"sagemaker-core-intro-blog/processing/code\")\n",
    "pre_processing_code_s3_uri"
   ]
  },
  {
   "cell_type": "markdown",
   "id": "77f89929-0274-4248-9ac2-dadaac217222",
   "metadata": {},
   "source": [
    "### Create S3 variables for holding the processed data\n",
    "\n",
    "Create S3 variables for holding the processed data (train, validation and test)."
   ]
  },
  {
   "cell_type": "code",
   "execution_count": 37,
   "id": "930789de-cbfc-4ca6-b7a6-ad49d6f888da",
   "metadata": {
    "tags": []
   },
   "outputs": [],
   "source": [
    "processed_train_data_uri = f\"s3://{bucket}/sagemaker-core-intro-blog/processing/output/train\"\n",
    "processed_validation_data_uri = f\"s3://{bucket}/sagemaker-core-intro-blog/processing/output/validation\"\n",
    "processed_test_data_uri = f\"s3://{bucket}/sagemaker-core-intro-blog/processing/output/test\""
   ]
  },
  {
   "cell_type": "markdown",
   "id": "880c9f13-0c60-46cf-bc98-59c9141a9384",
   "metadata": {
    "tags": []
   },
   "source": [
    "## Create processing job\n",
    "\n",
    "Below code submits a sagemaker processing job.\n",
    "\n",
    "1. ProcessingResources provides processing cluster details.\n",
    "2. AppSpecification provides processing container details. Here SKlearn processing container provided by sagemaker is used.\n",
    "3. Two objects of ProcessingInput specifying code and input data locations and configurations.\n",
    "4. ProcessingOutputConfig provides details on where the processed data will be stored."
   ]
  },
  {
   "cell_type": "code",
   "execution_count": 38,
   "id": "cce99f6a-934e-47a0-8033-b216d0e1a2a8",
   "metadata": {
    "tags": []
   },
   "outputs": [
    {
     "data": {
      "text/html": [
       "<pre style=\"white-space:pre;overflow-x:auto;line-height:normal;font-family:Menlo,'DejaVu Sans Mono',consolas,'Courier New',monospace\"><span style=\"color: #7fbfbf; text-decoration-color: #7fbfbf\">[03/31/25 06:49:29] </span><span style=\"color: #0069ff; text-decoration-color: #0069ff; font-weight: bold\">INFO    </span> Creating processing_job resource.                                   <a href=\"file:///opt/conda/lib/python3.11/site-packages/sagemaker_core/main/resources.py\" target=\"_blank\"><span style=\"color: #7f7f7f; text-decoration-color: #7f7f7f\">resources.py</span></a><span style=\"color: #7f7f7f; text-decoration-color: #7f7f7f\">:</span><a href=\"file:///opt/conda/lib/python3.11/site-packages/sagemaker_core/main/resources.py#25812\" target=\"_blank\"><span style=\"color: #7f7f7f; text-decoration-color: #7f7f7f\">25812</span></a>\n",
       "</pre>\n"
      ],
      "text/plain": [
       "\u001b[2;36m[03/31/25 06:49:29]\u001b[0m\u001b[2;36m \u001b[0m\u001b[1;38;2;0;105;255mINFO    \u001b[0m Creating processing_job resource.                                   \u001b]8;id=25841;file:///opt/conda/lib/python3.11/site-packages/sagemaker_core/main/resources.py\u001b\\\u001b[2mresources.py\u001b[0m\u001b]8;;\u001b\\\u001b[2m:\u001b[0m\u001b]8;id=508799;file:///opt/conda/lib/python3.11/site-packages/sagemaker_core/main/resources.py#25812\u001b\\\u001b[2m25812\u001b[0m\u001b]8;;\u001b\\\n"
      ]
     },
     "metadata": {},
     "output_type": "display_data"
    },
    {
     "data": {
      "application/vnd.jupyter.widget-view+json": {
       "model_id": "",
       "version_major": 2,
       "version_minor": 0
      },
      "text/plain": [
       "Output()"
      ]
     },
     "metadata": {},
     "output_type": "display_data"
    },
    {
     "data": {
      "text/html": [
       "<pre style=\"white-space:pre;overflow-x:auto;line-height:normal;font-family:Menlo,'DejaVu Sans Mono',consolas,'Courier New',monospace\"><span style=\"color: #7fbfbf; text-decoration-color: #7fbfbf\">[03/31/25 06:52:01] </span><span style=\"color: #0069ff; text-decoration-color: #0069ff; font-weight: bold\">INFO    </span> Final Resource Status: <span style=\"font-weight: bold\">Completed</span>                                    <a href=\"file:///opt/conda/lib/python3.11/site-packages/sagemaker_core/main/resources.py\" target=\"_blank\"><span style=\"color: #7f7f7f; text-decoration-color: #7f7f7f\">resources.py</span></a><span style=\"color: #7f7f7f; text-decoration-color: #7f7f7f\">:</span><a href=\"file:///opt/conda/lib/python3.11/site-packages/sagemaker_core/main/resources.py#26024\" target=\"_blank\"><span style=\"color: #7f7f7f; text-decoration-color: #7f7f7f\">26024</span></a>\n",
       "</pre>\n"
      ],
      "text/plain": [
       "\u001b[2;36m[03/31/25 06:52:01]\u001b[0m\u001b[2;36m \u001b[0m\u001b[1;38;2;0;105;255mINFO    \u001b[0m Final Resource Status: \u001b[1mCompleted\u001b[0m                                    \u001b]8;id=355484;file:///opt/conda/lib/python3.11/site-packages/sagemaker_core/main/resources.py\u001b\\\u001b[2mresources.py\u001b[0m\u001b]8;;\u001b\\\u001b[2m:\u001b[0m\u001b]8;id=810631;file:///opt/conda/lib/python3.11/site-packages/sagemaker_core/main/resources.py#26024\u001b\\\u001b[2m26024\u001b[0m\u001b]8;;\u001b\\\n"
      ]
     },
     "metadata": {},
     "output_type": "display_data"
    },
    {
     "data": {
      "text/html": [
       "<pre style=\"white-space:pre;overflow-x:auto;line-height:normal;font-family:Menlo,'DejaVu Sans Mono',consolas,'Courier New',monospace\"></pre>\n"
      ],
      "text/plain": []
     },
     "metadata": {},
     "output_type": "display_data"
    }
   ],
   "source": [
    "# Initialize a ProcessingJob resource\n",
    "current_timestamp = datetime.now()\n",
    "formatted_timestamp = current_timestamp.strftime(\"%Y-%m-%d-%H-%M-%S\")\n",
    "\n",
    "processing_job = ProcessingJob.create(\n",
    "    processing_job_name=f\"sagemaker-core-data-prep-{formatted_timestamp}\",\n",
    "    processing_resources=ProcessingResources(\n",
    "        cluster_config=ProcessingClusterConfig(\n",
    "            instance_count=1,\n",
    "            instance_type=\"ml.m5.xlarge\",\n",
    "            volume_size_in_gb=20\n",
    "        )\n",
    "    ),\n",
    "    app_specification=AppSpecification(\n",
    "        image_uri=f\"683313688378.dkr.ecr.{region}.amazonaws.com/sagemaker-scikit-learn:0.23-1-cpu-py3\",\n",
    "        container_entrypoint=[\"python3\", \"/opt/ml/processing/code/preprocess.py\"]\n",
    "    ),\n",
    "    role_arn=role,  # Intelligent default for execution role\n",
    "    processing_inputs=[\n",
    "        ProcessingInput(\n",
    "            input_name=\"input\",\n",
    "            s3_input=ProcessingS3Input(\n",
    "                s3_uri=f\"s3://sagemaker-example-files-prod-{region}/datasets/tabular/synthetic/churn.txt\",\n",
    "                s3_data_type=\"S3Prefix\",\n",
    "                local_path=\"/opt/ml/processing/input\",\n",
    "                s3_input_mode=\"File\"\n",
    "            ),\n",
    "        ),\n",
    "        ProcessingInput(\n",
    "            input_name=\"code\",\n",
    "            s3_input=ProcessingS3Input(\n",
    "                s3_uri=pre_processing_code_s3_uri,\n",
    "                s3_data_type=\"S3Prefix\",\n",
    "                local_path=\"/opt/ml/processing/code\",\n",
    "                s3_input_mode=\"File\"\n",
    "            ),\n",
    "        )\n",
    "    ],\n",
    "    processing_output_config= ProcessingOutputConfig(\n",
    "            outputs=[\n",
    "                ProcessingOutput(\n",
    "                    output_name=\"train\",\n",
    "                    s3_output=ProcessingS3Output(\n",
    "                        s3_uri=processed_train_data_uri,\n",
    "                        s3_upload_mode=\"EndOfJob\",\n",
    "                        local_path=\"/opt/ml/processing/output/train\"\n",
    "                    )\n",
    "                ),\n",
    "                ProcessingOutput(\n",
    "                    output_name=\"validation\",\n",
    "                    s3_output=ProcessingS3Output(\n",
    "                        s3_uri=processed_validation_data_uri,\n",
    "                        s3_upload_mode=\"EndOfJob\",\n",
    "                        local_path=\"/opt/ml/processing/output/validation\"\n",
    "                    )\n",
    "                ),\n",
    "                ProcessingOutput(\n",
    "                    output_name=\"test\",\n",
    "                    s3_output=ProcessingS3Output(\n",
    "                        s3_uri=processed_test_data_uri,\n",
    "                        s3_upload_mode=\"EndOfJob\",\n",
    "                        local_path=\"/opt/ml/processing/output/test\"\n",
    "                    )\n",
    "                )\n",
    "            ]\n",
    "        )\n",
    ")\n",
    "\n",
    "# Wait for the ProcessingJob to complete\n",
    "processing_job.wait()\n"
   ]
  },
  {
   "cell_type": "markdown",
   "id": "5d8c4139-244d-4827-b872-35fbeed664d8",
   "metadata": {},
   "source": [
    "## Train a classifier using XGBoost\n",
    "Use SageMaker Training and the managed XGBoost image to train a classifier. <br />\n",
    "More details on how to use SageMaker managed training with XGBoost can be found [here](https://docs.aws.amazon.com/sagemaker/latest/dg/xgboost.html)."
   ]
  },
  {
   "cell_type": "markdown",
   "id": "bbbf270c-20c0-4f82-a8a6-c2794ba57f70",
   "metadata": {},
   "source": [
    "<div class=\"alert alert-block alert-info\">\n",
    "  <b>NOTE:</b> For more information on using SageMaker managed container images and retrieving their ECR paths, \n",
    "  <a href=\"https://docs.aws.amazon.com/sagemaker/latest/dg-ecr-paths/sagemaker-algo-docker-registry-paths.html\" target=\"_blank\">here</a> \n",
    "  is the documentation. Please note that the image URI might need to be updated based on your selected AWS region.\n",
    "</div>\n"
   ]
  },
  {
   "cell_type": "code",
   "execution_count": 39,
   "id": "268583f2-2c20-401b-a57c-ee88fd402583",
   "metadata": {},
   "outputs": [],
   "source": [
    "image = f\"683313688378.dkr.ecr.{region}.amazonaws.com/sagemaker-xgboost:1.7-1\""
   ]
  },
  {
   "cell_type": "code",
   "execution_count": 40,
   "id": "e85a91b5-4a68-43f4-b04a-991035cc35bf",
   "metadata": {
    "tags": []
   },
   "outputs": [
    {
     "data": {
      "text/html": [
       "<pre style=\"white-space:pre;overflow-x:auto;line-height:normal;font-family:Menlo,'DejaVu Sans Mono',consolas,'Courier New',monospace\"><span style=\"color: #7fbfbf; text-decoration-color: #7fbfbf\">[03/31/25 06:52:08] </span><span style=\"color: #0069ff; text-decoration-color: #0069ff; font-weight: bold\">INFO    </span> Creating training_job resource.                                     <a href=\"file:///opt/conda/lib/python3.11/site-packages/sagemaker_core/main/resources.py\" target=\"_blank\"><span style=\"color: #7f7f7f; text-decoration-color: #7f7f7f\">resources.py</span></a><span style=\"color: #7f7f7f; text-decoration-color: #7f7f7f\">:</span><a href=\"file:///opt/conda/lib/python3.11/site-packages/sagemaker_core/main/resources.py#28129\" target=\"_blank\"><span style=\"color: #7f7f7f; text-decoration-color: #7f7f7f\">28129</span></a>\n",
       "</pre>\n"
      ],
      "text/plain": [
       "\u001b[2;36m[03/31/25 06:52:08]\u001b[0m\u001b[2;36m \u001b[0m\u001b[1;38;2;0;105;255mINFO    \u001b[0m Creating training_job resource.                                     \u001b]8;id=644411;file:///opt/conda/lib/python3.11/site-packages/sagemaker_core/main/resources.py\u001b\\\u001b[2mresources.py\u001b[0m\u001b]8;;\u001b\\\u001b[2m:\u001b[0m\u001b]8;id=271728;file:///opt/conda/lib/python3.11/site-packages/sagemaker_core/main/resources.py#28129\u001b\\\u001b[2m28129\u001b[0m\u001b]8;;\u001b\\\n"
      ]
     },
     "metadata": {},
     "output_type": "display_data"
    },
    {
     "data": {
      "application/vnd.jupyter.widget-view+json": {
       "model_id": "",
       "version_major": 2,
       "version_minor": 0
      },
      "text/plain": [
       "Output()"
      ]
     },
     "metadata": {},
     "output_type": "display_data"
    },
    {
     "data": {
      "text/html": [
       "<pre style=\"white-space:pre;overflow-x:auto;line-height:normal;font-family:Menlo,'DejaVu Sans Mono',consolas,'Courier New',monospace\"><span style=\"color: #7fbfbf; text-decoration-color: #7fbfbf\">[03/31/25 06:55:08] </span><span style=\"color: #0069ff; text-decoration-color: #0069ff; font-weight: bold\">INFO    </span> Final Resource Status: <span style=\"font-weight: bold\">Completed</span>                                    <a href=\"file:///opt/conda/lib/python3.11/site-packages/sagemaker_core/main/resources.py\" target=\"_blank\"><span style=\"color: #7f7f7f; text-decoration-color: #7f7f7f\">resources.py</span></a><span style=\"color: #7f7f7f; text-decoration-color: #7f7f7f\">:</span><a href=\"file:///opt/conda/lib/python3.11/site-packages/sagemaker_core/main/resources.py#28415\" target=\"_blank\"><span style=\"color: #7f7f7f; text-decoration-color: #7f7f7f\">28415</span></a>\n",
       "</pre>\n"
      ],
      "text/plain": [
       "\u001b[2;36m[03/31/25 06:55:08]\u001b[0m\u001b[2;36m \u001b[0m\u001b[1;38;2;0;105;255mINFO    \u001b[0m Final Resource Status: \u001b[1mCompleted\u001b[0m                                    \u001b]8;id=367444;file:///opt/conda/lib/python3.11/site-packages/sagemaker_core/main/resources.py\u001b\\\u001b[2mresources.py\u001b[0m\u001b]8;;\u001b\\\u001b[2m:\u001b[0m\u001b]8;id=45178;file:///opt/conda/lib/python3.11/site-packages/sagemaker_core/main/resources.py#28415\u001b\\\u001b[2m28415\u001b[0m\u001b]8;;\u001b\\\n"
      ]
     },
     "metadata": {},
     "output_type": "display_data"
    },
    {
     "data": {
      "text/html": [
       "<pre style=\"white-space:pre;overflow-x:auto;line-height:normal;font-family:Menlo,'DejaVu Sans Mono',consolas,'Courier New',monospace\"></pre>\n"
      ],
      "text/plain": []
     },
     "metadata": {},
     "output_type": "display_data"
    }
   ],
   "source": [
    "from sagemaker_core.resources import TrainingJob\n",
    "from sagemaker_core.shapes import (\n",
    "    AlgorithmSpecification,\n",
    "    Channel,\n",
    "    DataSource,\n",
    "    S3DataSource,\n",
    "    ResourceConfig,\n",
    "    StoppingCondition,\n",
    "    OutputDataConfig,\n",
    ")\n",
    "\n",
    "job_name = \"xgboost-churn-\" + time.strftime(\n",
    "    \"%Y-%m-%d-%H-%M-%S\", time.gmtime()\n",
    ")  # Name of training job\n",
    "instance_type = \"ml.m4.xlarge\"  # SageMaker instance type to use for training\n",
    "instance_count = 1  # Number of instances to use for training\n",
    "volume_size_in_gb = 30  # Amount of storage to allocate to training job\n",
    "max_runtime_in_seconds = 600  # Maximum runtimt. Job exits if it doesn't finish before this\n",
    "s3_output_path = f\"s3://{bucket}\"  # bucket and optional prefix where the training job stores output artifacts, like model artifact.\n",
    "\n",
    "# Specify hyperparameters\n",
    "hyper_parameters = {\n",
    "    \"max_depth\": \"5\",\n",
    "    \"eta\": \"0.2\",\n",
    "    \"gamma\": \"4\",\n",
    "    \"min_child_weight\": \"6\",\n",
    "    \"subsample\": \"0.8\",\n",
    "    \"verbosity\": \"0\",\n",
    "    \"objective\": \"binary:logistic\",\n",
    "    \"num_round\": \"100\",\n",
    "}\n",
    "\n",
    "# Create training job.\n",
    "training_job = TrainingJob.create(\n",
    "    training_job_name=job_name,\n",
    "    hyper_parameters=hyper_parameters,\n",
    "    algorithm_specification=AlgorithmSpecification(\n",
    "        training_image=image, training_input_mode=\"File\"\n",
    "    ),\n",
    "    role_arn=role,\n",
    "    input_data_config=[\n",
    "        Channel(\n",
    "            channel_name=\"train\",\n",
    "            content_type=\"csv\",\n",
    "            data_source=DataSource(\n",
    "                s3_data_source=S3DataSource(\n",
    "                    s3_data_type=\"S3Prefix\",\n",
    "                    s3_uri=processed_train_data_uri,\n",
    "                    s3_data_distribution_type=\"FullyReplicated\",\n",
    "                )\n",
    "            ),\n",
    "        ),\n",
    "        Channel(\n",
    "            channel_name=\"validation\",\n",
    "            content_type=\"csv\",\n",
    "            data_source=DataSource(\n",
    "                s3_data_source=S3DataSource(\n",
    "                    s3_data_type=\"S3Prefix\",\n",
    "                    s3_uri=processed_validation_data_uri,\n",
    "                    s3_data_distribution_type=\"FullyReplicated\",\n",
    "                )\n",
    "            ),\n",
    "        ),\n",
    "    ],\n",
    "    output_data_config=OutputDataConfig(s3_output_path=s3_output_path),\n",
    "    resource_config=ResourceConfig(\n",
    "        instance_type=instance_type,\n",
    "        instance_count=instance_count,\n",
    "        volume_size_in_gb=volume_size_in_gb,\n",
    "    ),\n",
    "    stopping_condition=StoppingCondition(max_runtime_in_seconds=max_runtime_in_seconds),\n",
    ")\n",
    "\n",
    "# Wait for the training job to complete\n",
    "# training_job.wait()\n",
    "training_job.wait(poll=60, timeout=None, logs=False)"
   ]
  },
  {
   "cell_type": "markdown",
   "id": "b79e6746-6a03-4868-a22e-63a32bfcf599",
   "metadata": {},
   "source": [
    "## Use model artifacts for real time inference\n",
    "To use the model to perform real time inference, we need to:\n",
    "\n",
    "1. Create a SageMaker model with the same first-party image as we used for training, and the model artifacts produced during training. Indeed, such image can also be used to run inference\n",
    "2. Create an `EndpointConfig` using the SageMaker model object created in the previous step. The endpoint configuration specifies what SageMaker model to use, and what endpoint type.\n",
    "3. Create a SageMaker endpoint using `EndpointConfig` and other optional parameters.\n",
    "\n",
    "More information about SageMaker Endpoints can be found [here](https://docs.aws.amazon.com/sagemaker/latest/dg/realtime-endpoints.html)."
   ]
  },
  {
   "cell_type": "markdown",
   "id": "82b0db2b-4daf-4ee0-a035-b7108f3d7912",
   "metadata": {},
   "source": [
    "#### Create SageMaker Model\n",
    "\n",
    "Create a Model resource based on the model artifacts produced by the training job."
   ]
  },
  {
   "cell_type": "code",
   "execution_count": 45,
   "id": "270aa263-2a8f-4225-bcd6-56a57195ac63",
   "metadata": {},
   "outputs": [
    {
     "data": {
      "text/html": [
       "<pre style=\"white-space:pre;overflow-x:auto;line-height:normal;font-family:Menlo,'DejaVu Sans Mono',consolas,'Courier New',monospace\"><span style=\"color: #7fbfbf; text-decoration-color: #7fbfbf\">[03/31/25 07:01:00] </span><span style=\"color: #0069ff; text-decoration-color: #0069ff; font-weight: bold\">INFO    </span> Creating model resource.                                            <a href=\"file:///opt/conda/lib/python3.11/site-packages/sagemaker_core/main/resources.py\" target=\"_blank\"><span style=\"color: #7f7f7f; text-decoration-color: #7f7f7f\">resources.py</span></a><span style=\"color: #7f7f7f; text-decoration-color: #7f7f7f\">:</span><a href=\"file:///opt/conda/lib/python3.11/site-packages/sagemaker_core/main/resources.py#17871\" target=\"_blank\"><span style=\"color: #7f7f7f; text-decoration-color: #7f7f7f\">17871</span></a>\n",
       "</pre>\n"
      ],
      "text/plain": [
       "\u001b[2;36m[03/31/25 07:01:00]\u001b[0m\u001b[2;36m \u001b[0m\u001b[1;38;2;0;105;255mINFO    \u001b[0m Creating model resource.                                            \u001b]8;id=415815;file:///opt/conda/lib/python3.11/site-packages/sagemaker_core/main/resources.py\u001b\\\u001b[2mresources.py\u001b[0m\u001b]8;;\u001b\\\u001b[2m:\u001b[0m\u001b]8;id=935532;file:///opt/conda/lib/python3.11/site-packages/sagemaker_core/main/resources.py#17871\u001b\\\u001b[2m17871\u001b[0m\u001b]8;;\u001b\\\n"
      ]
     },
     "metadata": {},
     "output_type": "display_data"
    },
    {
     "name": "stdout",
     "output_type": "stream",
     "text": [
      "Successfully created model: customer-churn-xgboost-2025-03-31-07-01-00\n"
     ]
    }
   ],
   "source": [
    "from sagemaker_core.resources import Model\n",
    "from sagemaker_core.shapes import ContainerDefinition\n",
    "\n",
    "model_s3_uri = training_job.model_artifacts.s3_model_artifacts  # Get URI of model artifacts from the training job.\n",
    "\n",
    "model_name = f\"customer-churn-xgboost-{time.strftime('%Y-%m-%d-%H-%M-%S', time.gmtime())}\"\n",
    "\n",
    "# Create SageMaker model with the unique name\n",
    "customer_churn_model = Model.create(\n",
    "    model_name=model_name,  # Use the variable here, not the hardcoded string\n",
    "    primary_container=ContainerDefinition(image=image, model_data_url=model_s3_uri),\n",
    "    execution_role_arn=role,\n",
    ")\n",
    "\n",
    "print(f\"Successfully created model: {model_name}\")"
   ]
  },
  {
   "cell_type": "markdown",
   "id": "abfe8ade-8de6-487a-9b24-a2afbeaa8559",
   "metadata": {},
   "source": [
    "## Create endpoint configuration for real-time inference\n",
    "To create a SageMaker endpoint we first create an `EndpointConfig`. The endpoint configuration specifies what SageMaker model to use."
   ]
  },
  {
   "cell_type": "code",
   "execution_count": 52,
   "id": "056e57bb-9edf-461e-97e8-40c9e5ebf39f",
   "metadata": {},
   "outputs": [
    {
     "data": {
      "text/html": [
       "<pre style=\"white-space:pre;overflow-x:auto;line-height:normal;font-family:Menlo,'DejaVu Sans Mono',consolas,'Courier New',monospace\"><span style=\"color: #7fbfbf; text-decoration-color: #7fbfbf\">[03/31/25 07:11:53] </span><span style=\"color: #0069ff; text-decoration-color: #0069ff; font-weight: bold\">INFO    </span> Creating endpoint_config resource.                                   <a href=\"file:///opt/conda/lib/python3.11/site-packages/sagemaker_core/main/resources.py\" target=\"_blank\"><span style=\"color: #7f7f7f; text-decoration-color: #7f7f7f\">resources.py</span></a><span style=\"color: #7f7f7f; text-decoration-color: #7f7f7f\">:</span><a href=\"file:///opt/conda/lib/python3.11/site-packages/sagemaker_core/main/resources.py#9735\" target=\"_blank\"><span style=\"color: #7f7f7f; text-decoration-color: #7f7f7f\">9735</span></a>\n",
       "</pre>\n"
      ],
      "text/plain": [
       "\u001b[2;36m[03/31/25 07:11:53]\u001b[0m\u001b[2;36m \u001b[0m\u001b[1;38;2;0;105;255mINFO    \u001b[0m Creating endpoint_config resource.                                   \u001b]8;id=534248;file:///opt/conda/lib/python3.11/site-packages/sagemaker_core/main/resources.py\u001b\\\u001b[2mresources.py\u001b[0m\u001b]8;;\u001b\\\u001b[2m:\u001b[0m\u001b]8;id=720063;file:///opt/conda/lib/python3.11/site-packages/sagemaker_core/main/resources.py#9735\u001b\\\u001b[2m9735\u001b[0m\u001b]8;;\u001b\\\n"
      ]
     },
     "metadata": {},
     "output_type": "display_data"
    },
    {
     "name": "stdout",
     "output_type": "stream",
     "text": [
      "Endpoint config created: churn-prediction-endpoint-config-2025-03-31-07-11-53\n"
     ]
    },
    {
     "data": {
      "text/html": [
       "<pre style=\"white-space:pre;overflow-x:auto;line-height:normal;font-family:Menlo,'DejaVu Sans Mono',consolas,'Courier New',monospace\"><span style=\"color: #7fbfbf; text-decoration-color: #7fbfbf\">                    </span><span style=\"color: #0069ff; text-decoration-color: #0069ff; font-weight: bold\">INFO    </span> Creating endpoint resource.                                          <a href=\"file:///opt/conda/lib/python3.11/site-packages/sagemaker_core/main/resources.py\" target=\"_blank\"><span style=\"color: #7f7f7f; text-decoration-color: #7f7f7f\">resources.py</span></a><span style=\"color: #7f7f7f; text-decoration-color: #7f7f7f\">:</span><a href=\"file:///opt/conda/lib/python3.11/site-packages/sagemaker_core/main/resources.py#8916\" target=\"_blank\"><span style=\"color: #7f7f7f; text-decoration-color: #7f7f7f\">8916</span></a>\n",
       "</pre>\n"
      ],
      "text/plain": [
       "\u001b[2;36m                   \u001b[0m\u001b[2;36m \u001b[0m\u001b[1;38;2;0;105;255mINFO    \u001b[0m Creating endpoint resource.                                          \u001b]8;id=920108;file:///opt/conda/lib/python3.11/site-packages/sagemaker_core/main/resources.py\u001b\\\u001b[2mresources.py\u001b[0m\u001b]8;;\u001b\\\u001b[2m:\u001b[0m\u001b]8;id=7326;file:///opt/conda/lib/python3.11/site-packages/sagemaker_core/main/resources.py#8916\u001b\\\u001b[2m8916\u001b[0m\u001b]8;;\u001b\\\n"
      ]
     },
     "metadata": {},
     "output_type": "display_data"
    },
    {
     "name": "stdout",
     "output_type": "stream",
     "text": [
      "Endpoint creation initiated: customer-churn-endpoint-2025-03-31-07-11-53\n",
      "Waiting for endpoint customer-churn-endpoint-2025-03-31-07-11-53 to become InService...\n",
      "Endpoint status: Creating - waiting 30 seconds...\n",
      "Endpoint status: Creating - waiting 30 seconds...\n",
      "Endpoint status: Creating - waiting 30 seconds...\n",
      "Endpoint status: Creating - waiting 30 seconds...\n",
      "Endpoint status: Creating - waiting 30 seconds...\n",
      "Endpoint status: Creating - waiting 30 seconds...\n",
      "Endpoint status: Creating - waiting 30 seconds...\n",
      "Endpoint status: Creating - waiting 30 seconds...\n",
      "Endpoint status: Creating - waiting 30 seconds...\n",
      "Endpoint status: Creating - waiting 30 seconds...\n",
      "Endpoint is now available! Status: InService\n"
     ]
    }
   ],
   "source": [
    "from sagemaker_core.resources import Endpoint, EndpointConfig\n",
    "from sagemaker_core.shapes import ProductionVariant\n",
    "import time\n",
    "import boto3\n",
    "\n",
    "# Create timestamp for unique naming\n",
    "timestamp = time.strftime(\"%Y-%m-%d-%H-%M-%S\", time.gmtime())\n",
    "\n",
    "# Use timestamp in endpoint config name\n",
    "endpoint_config_name = f\"churn-prediction-endpoint-config-{timestamp}\"  \n",
    "model_name = customer_churn_model.get_name()  # Get name of SageMaker model created in previous step\n",
    "endpoint_name = f\"customer-churn-endpoint-{timestamp}\"  # Use timestamp in endpoint name\n",
    "\n",
    "# Create the endpoint configuration\n",
    "endpoint_config = EndpointConfig.create(\n",
    "    endpoint_config_name=endpoint_config_name,\n",
    "    production_variants=[\n",
    "        ProductionVariant(\n",
    "            variant_name=\"AllTraffic\",\n",
    "            model_name=model_name,\n",
    "            instance_type=instance_type,\n",
    "            initial_instance_count=1,\n",
    "        )\n",
    "    ],\n",
    ")\n",
    "print(f\"Endpoint config created: {endpoint_config_name}\")\n",
    "\n",
    "# Create the endpoint using the endpoint config\n",
    "endpoint = Endpoint.create(\n",
    "    endpoint_name=endpoint_name,\n",
    "    endpoint_config_name=endpoint_config_name,\n",
    ")\n",
    "print(f\"Endpoint creation initiated: {endpoint_name}\")\n",
    "\n",
    "# Wait for the endpoint to become available\n",
    "sagemaker_client = boto3.client('sagemaker')\n",
    "print(f\"Waiting for endpoint {endpoint_name} to become InService...\")\n",
    "\n",
    "# Poll until the endpoint becomes available or fails\n",
    "status = \"Creating\"\n",
    "while status == \"Creating\":\n",
    "    response = sagemaker_client.describe_endpoint(EndpointName=endpoint_name)\n",
    "    status = response['EndpointStatus']\n",
    "    \n",
    "    if status == \"Creating\":\n",
    "        print(f\"Endpoint status: {status} - waiting 30 seconds...\")\n",
    "        time.sleep(30)\n",
    "    elif status == \"InService\":\n",
    "        print(f\"Endpoint is now available! Status: {status}\")\n",
    "    else:\n",
    "        print(f\"Endpoint creation failed or entered unexpected state: {status}\")\n",
    "        print(f\"Failure reason: {response.get('FailureReason', 'No failure reason provided')}\")\n",
    "        break"
   ]
  },
  {
   "cell_type": "code",
   "execution_count": 54,
   "id": "635cb615-f4e0-43fa-91d6-0b480a51fd16",
   "metadata": {
    "tags": []
   },
   "outputs": [],
   "source": [
    "# sagemaker_endpoint.wait_for_status(\n",
    "#     target_status=\"InService\"\n",
    "# )  # Wait for endpoint to become in service"
   ]
  },
  {
   "cell_type": "markdown",
   "id": "fd718d54-65ee-4b67-8556-196246356a68",
   "metadata": {},
   "source": [
    "#### Test live endpoint - with a sample record from test dataset\n",
    "\n",
    "Let us download the test data from S3."
   ]
  },
  {
   "cell_type": "code",
   "execution_count": 56,
   "id": "6bf57e46-7981-47c9-9297-5326bc65bad8",
   "metadata": {},
   "outputs": [
    {
     "name": "stdout",
     "output_type": "stream",
     "text": [
      "sagemaker-core-intro-blog/processing/output/test/test.csv\n",
      "sagemaker-core-intro-blog/processing/output/train/train.csv\n",
      "sagemaker-core-intro-blog/processing/output/validation/validation.csv\n"
     ]
    }
   ],
   "source": [
    "# List objects in your bucket to find the correct path\n",
    "response = s3.list_objects_v2(\n",
    "    Bucket=bucket,\n",
    "    Prefix=\"sagemaker-core-intro-blog/processing/output/\"\n",
    ")\n",
    "\n",
    "# Print available paths\n",
    "for obj in response.get('Contents', []):\n",
    "    print(obj['Key'])"
   ]
  },
  {
   "cell_type": "code",
   "execution_count": 57,
   "id": "3fdbd048-014f-418d-8d88-fc329afc7ee6",
   "metadata": {},
   "outputs": [],
   "source": [
    "s3 = boto3.client(\"s3\")\n",
    "s3.download_file(\n",
    "    Bucket=bucket,\n",
    "    Key=\"sagemaker-core-intro-blog/processing/output/test/test.csv\",  # Correct path\n",
    "    Filename=\"test.csv\"\n",
    ")"
   ]
  },
  {
   "cell_type": "markdown",
   "id": "2ff78e4f-47cd-4f05-ba00-6ded32ad12a8",
   "metadata": {},
   "source": [
    "#### Invoke the endpoint\n",
    "\n",
    "Let us invoke the endpoint now."
   ]
  },
  {
   "cell_type": "code",
   "execution_count": 62,
   "id": "55e167b6-e540-4c89-902c-2d9098d73288",
   "metadata": {},
   "outputs": [
    {
     "name": "stdout",
     "output_type": "stream",
     "text": [
      "Target column shape: (545,)\n",
      "Target column values: 98\n",
      "0.0    275\n",
      "1.0    270\n",
      "Name: count, dtype: int64\n",
      "Sample target value: 1.0\n",
      "Model prediction: 0.2609618306159973\n",
      "\n",
      "Single sample prediction:\n",
      "Actual value: 1.0\n",
      "Predicted probability: 0.2610\n",
      "Predicted class: 0\n"
     ]
    }
   ],
   "source": [
    "import boto3\n",
    "import pandas as pd\n",
    "import numpy as np\n",
    "from sklearn.metrics import accuracy_score, precision_score, recall_score, f1_score, roc_auc_score\n",
    "\n",
    "def print_performance_metrics(predictions, target_column):\n",
    "    \"\"\"\n",
    "    Print common performance metrics for binary classification.\n",
    "    \n",
    "    Parameters:\n",
    "    predictions (DataFrame): DataFrame with model prediction probabilities\n",
    "    target_column: The target column from the test dataset\n",
    "    \"\"\"\n",
    "    # Convert probabilities to binary predictions (assuming 0.5 threshold)\n",
    "    binary_predictions = (predictions > 0.5).astype(int)\n",
    "    \n",
    "    # Calculate metrics\n",
    "    accuracy = accuracy_score(target_column, binary_predictions)\n",
    "    precision = precision_score(target_column, binary_predictions, zero_division=0)\n",
    "    recall = recall_score(target_column, binary_predictions, zero_division=0)\n",
    "    f1 = f1_score(target_column, binary_predictions, zero_division=0)\n",
    "    \n",
    "    try:\n",
    "        auc = roc_auc_score(target_column, predictions)\n",
    "    except:\n",
    "        auc = \"N/A\"\n",
    "    \n",
    "    # Print results\n",
    "    print(f\"Performance Metrics:\")\n",
    "    print(f\"Accuracy:  {accuracy:.4f}\")\n",
    "    print(f\"Precision: {precision:.4f}\")\n",
    "    print(f\"Recall:    {recall:.4f}\")\n",
    "    print(f\"F1 Score:  {f1:.4f}\")\n",
    "    print(f\"AUC:       {auc}\")\n",
    "\n",
    "# Load test data\n",
    "df = pd.read_csv(\"test.csv\", header=None)\n",
    "\n",
    "# Assuming the last column is the target column (adjust if different)\n",
    "test_target_column = df.iloc[:, -1]\n",
    "print(f\"Target column shape: {test_target_column.shape}\")\n",
    "print(f\"Target column values: {test_target_column.value_counts()}\")\n",
    "\n",
    "# Pick a random record from CSV and convert it to string\n",
    "sample = df.sample(1)\n",
    "sample_payload = sample.to_csv(header=False, index=False).strip()\n",
    "\n",
    "# Create a SageMaker runtime client for invoking the endpoint\n",
    "runtime_client = boto3.client('sagemaker-runtime')\n",
    "\n",
    "# Send sample payload to live endpoint and parse response\n",
    "res = runtime_client.invoke_endpoint(\n",
    "    EndpointName=endpoint_name,  # Use the endpoint name from earlier\n",
    "    ContentType=\"text/csv\",\n",
    "    Body=sample_payload\n",
    ")\n",
    "\n",
    "result = res[\"Body\"].read().decode(\"utf-8\")\n",
    "result = result.split(\"\\n\")[:-1]\n",
    "\n",
    "# Compute performance metrics for this single prediction\n",
    "df_result = pd.DataFrame(result).astype(float)\n",
    "\n",
    "# Extract the target from the sample we used\n",
    "sample_target = sample.iloc[:, -1]\n",
    "print(f\"Sample target value: {sample_target.values[0]}\")\n",
    "print(f\"Model prediction: {df_result.values[0][0]}\")\n",
    "\n",
    "# For the single sample\n",
    "print(\"\\nSingle sample prediction:\")\n",
    "print(f\"Actual value: {sample_target.values[0]}\")\n",
    "print(f\"Predicted probability: {df_result.values[0][0]:.4f}\")\n",
    "print(f\"Predicted class: {1 if df_result.values[0][0] > 0.5 else 0}\")"
   ]
  },
  {
   "cell_type": "markdown",
   "id": "0e9d3ad7-4b67-405e-940a-0331fd28811f",
   "metadata": {},
   "source": [
    "## Clean up"
   ]
  },
  {
   "cell_type": "code",
   "execution_count": 64,
   "id": "99cb8e33-5d1e-4f01-aca9-cfce4fd22c4b",
   "metadata": {},
   "outputs": [
    {
     "data": {
      "text/html": [
       "<pre style=\"white-space:pre;overflow-x:auto;line-height:normal;font-family:Menlo,'DejaVu Sans Mono',consolas,'Courier New',monospace\"><span style=\"color: #7fbfbf; text-decoration-color: #7fbfbf\">[03/31/25 07:56:58] </span><span style=\"color: #0069ff; text-decoration-color: #0069ff; font-weight: bold\">INFO    </span> Deleting Endpoint - customer-churn-endpoint-<span style=\"color: #008080; text-decoration-color: #008080; font-weight: bold\">2025</span>-<span style=\"color: #008080; text-decoration-color: #008080; font-weight: bold\">03</span>-<span style=\"color: #008080; text-decoration-color: #008080; font-weight: bold\">31</span>-<span style=\"color: #008080; text-decoration-color: #008080; font-weight: bold\">07</span>-<span style=\"color: #008080; text-decoration-color: #008080; font-weight: bold\">11</span>-<span style=\"color: #008080; text-decoration-color: #008080; font-weight: bold\">53</span>      <a href=\"file:///opt/conda/lib/python3.11/site-packages/sagemaker_core/main/resources.py\" target=\"_blank\"><span style=\"color: #7f7f7f; text-decoration-color: #7f7f7f\">resources.py</span></a><span style=\"color: #7f7f7f; text-decoration-color: #7f7f7f\">:</span><a href=\"file:///opt/conda/lib/python3.11/site-packages/sagemaker_core/main/resources.py#9116\" target=\"_blank\"><span style=\"color: #7f7f7f; text-decoration-color: #7f7f7f\">9116</span></a>\n",
       "</pre>\n"
      ],
      "text/plain": [
       "\u001b[2;36m[03/31/25 07:56:58]\u001b[0m\u001b[2;36m \u001b[0m\u001b[1;38;2;0;105;255mINFO    \u001b[0m Deleting Endpoint - customer-churn-endpoint-\u001b[1;36m2025\u001b[0m-\u001b[1;36m03\u001b[0m-\u001b[1;36m31\u001b[0m-\u001b[1;36m07\u001b[0m-\u001b[1;36m11\u001b[0m-\u001b[1;36m53\u001b[0m      \u001b]8;id=31548;file:///opt/conda/lib/python3.11/site-packages/sagemaker_core/main/resources.py\u001b\\\u001b[2mresources.py\u001b[0m\u001b]8;;\u001b\\\u001b[2m:\u001b[0m\u001b]8;id=953556;file:///opt/conda/lib/python3.11/site-packages/sagemaker_core/main/resources.py#9116\u001b\\\u001b[2m9116\u001b[0m\u001b]8;;\u001b\\\n"
      ]
     },
     "metadata": {},
     "output_type": "display_data"
    },
    {
     "data": {
      "text/html": [
       "<pre style=\"white-space:pre;overflow-x:auto;line-height:normal;font-family:Menlo,'DejaVu Sans Mono',consolas,'Courier New',monospace\"><span style=\"color: #7fbfbf; text-decoration-color: #7fbfbf\">                    </span><span style=\"color: #0069ff; text-decoration-color: #0069ff; font-weight: bold\">INFO    </span> Deleting EndpointConfig -                                            <a href=\"file:///opt/conda/lib/python3.11/site-packages/sagemaker_core/main/resources.py\" target=\"_blank\"><span style=\"color: #7f7f7f; text-decoration-color: #7f7f7f\">resources.py</span></a><span style=\"color: #7f7f7f; text-decoration-color: #7f7f7f\">:</span><a href=\"file:///opt/conda/lib/python3.11/site-packages/sagemaker_core/main/resources.py#9885\" target=\"_blank\"><span style=\"color: #7f7f7f; text-decoration-color: #7f7f7f\">9885</span></a>\n",
       "<span style=\"color: #7fbfbf; text-decoration-color: #7fbfbf\">                    </span>         churn-prediction-endpoint-config-<span style=\"color: #008080; text-decoration-color: #008080; font-weight: bold\">2025</span>-<span style=\"color: #008080; text-decoration-color: #008080; font-weight: bold\">03</span>-<span style=\"color: #008080; text-decoration-color: #008080; font-weight: bold\">31</span>-<span style=\"color: #008080; text-decoration-color: #008080; font-weight: bold\">07</span>-<span style=\"color: #008080; text-decoration-color: #008080; font-weight: bold\">11</span>-<span style=\"color: #008080; text-decoration-color: #008080; font-weight: bold\">53</span>                 <span style=\"color: #7f7f7f; text-decoration-color: #7f7f7f\">                 </span>\n",
       "</pre>\n"
      ],
      "text/plain": [
       "\u001b[2;36m                   \u001b[0m\u001b[2;36m \u001b[0m\u001b[1;38;2;0;105;255mINFO    \u001b[0m Deleting EndpointConfig -                                            \u001b]8;id=173608;file:///opt/conda/lib/python3.11/site-packages/sagemaker_core/main/resources.py\u001b\\\u001b[2mresources.py\u001b[0m\u001b]8;;\u001b\\\u001b[2m:\u001b[0m\u001b]8;id=557145;file:///opt/conda/lib/python3.11/site-packages/sagemaker_core/main/resources.py#9885\u001b\\\u001b[2m9885\u001b[0m\u001b]8;;\u001b\\\n",
       "\u001b[2;36m                    \u001b[0m         churn-prediction-endpoint-config-\u001b[1;36m2025\u001b[0m-\u001b[1;36m03\u001b[0m-\u001b[1;36m31\u001b[0m-\u001b[1;36m07\u001b[0m-\u001b[1;36m11\u001b[0m-\u001b[1;36m53\u001b[0m                 \u001b[2m                 \u001b[0m\n"
      ]
     },
     "metadata": {},
     "output_type": "display_data"
    },
    {
     "data": {
      "text/html": [
       "<pre style=\"white-space:pre;overflow-x:auto;line-height:normal;font-family:Menlo,'DejaVu Sans Mono',consolas,'Courier New',monospace\"><span style=\"color: #7fbfbf; text-decoration-color: #7fbfbf\">                    </span><span style=\"color: #0069ff; text-decoration-color: #0069ff; font-weight: bold\">INFO    </span> Deleting Model - customer-churn-xgboost-<span style=\"color: #008080; text-decoration-color: #008080; font-weight: bold\">2025</span>-<span style=\"color: #008080; text-decoration-color: #008080; font-weight: bold\">03</span>-<span style=\"color: #008080; text-decoration-color: #008080; font-weight: bold\">31</span>-<span style=\"color: #008080; text-decoration-color: #008080; font-weight: bold\">07</span>-<span style=\"color: #008080; text-decoration-color: #008080; font-weight: bold\">01</span>-<span style=\"color: #008080; text-decoration-color: #008080; font-weight: bold\">00</span>         <a href=\"file:///opt/conda/lib/python3.11/site-packages/sagemaker_core/main/resources.py\" target=\"_blank\"><span style=\"color: #7f7f7f; text-decoration-color: #7f7f7f\">resources.py</span></a><span style=\"color: #7f7f7f; text-decoration-color: #7f7f7f\">:</span><a href=\"file:///opt/conda/lib/python3.11/site-packages/sagemaker_core/main/resources.py#18018\" target=\"_blank\"><span style=\"color: #7f7f7f; text-decoration-color: #7f7f7f\">18018</span></a>\n",
       "</pre>\n"
      ],
      "text/plain": [
       "\u001b[2;36m                   \u001b[0m\u001b[2;36m \u001b[0m\u001b[1;38;2;0;105;255mINFO    \u001b[0m Deleting Model - customer-churn-xgboost-\u001b[1;36m2025\u001b[0m-\u001b[1;36m03\u001b[0m-\u001b[1;36m31\u001b[0m-\u001b[1;36m07\u001b[0m-\u001b[1;36m01\u001b[0m-\u001b[1;36m00\u001b[0m         \u001b]8;id=181429;file:///opt/conda/lib/python3.11/site-packages/sagemaker_core/main/resources.py\u001b\\\u001b[2mresources.py\u001b[0m\u001b]8;;\u001b\\\u001b[2m:\u001b[0m\u001b]8;id=297606;file:///opt/conda/lib/python3.11/site-packages/sagemaker_core/main/resources.py#18018\u001b\\\u001b[2m18018\u001b[0m\u001b]8;;\u001b\\\n"
      ]
     },
     "metadata": {},
     "output_type": "display_data"
    },
    {
     "name": "stdout",
     "output_type": "stream",
     "text": [
      "Successfully deleted all SageMaker resources\n"
     ]
    }
   ],
   "source": [
    "# Delete endpoint\n",
    "endpoint.delete()\n",
    "\n",
    "# Delete endpoint configuration\n",
    "endpoint_config.delete()\n",
    "\n",
    "# Delete model\n",
    "customer_churn_model.delete()\n",
    "\n",
    "print(\"Successfully deleted all SageMaker resources\")"
   ]
  },
  {
   "cell_type": "code",
   "execution_count": 65,
   "id": "9fb90949-9b35-4e11-8d2a-6053beacb4ba",
   "metadata": {},
   "outputs": [],
   "source": [
    "# sagemaker_endpoint.delete()\n",
    "# endpoint_config.delete()\n",
    "# customer_churn_model.delete()"
   ]
  },
  {
   "cell_type": "code",
   "execution_count": null,
   "id": "9e4d6e7e-4037-4291-ad4f-3e07d8876fc3",
   "metadata": {},
   "outputs": [],
   "source": []
  }
 ],
 "metadata": {
  "kernelspec": {
   "display_name": "Python 3 (ipykernel)",
   "language": "python",
   "name": "python3"
  },
  "language_info": {
   "codemirror_mode": {
    "name": "ipython",
    "version": 3
   },
   "file_extension": ".py",
   "mimetype": "text/x-python",
   "name": "python",
   "nbconvert_exporter": "python",
   "pygments_lexer": "ipython3",
   "version": "3.11.11"
  }
 },
 "nbformat": 4,
 "nbformat_minor": 5
}
